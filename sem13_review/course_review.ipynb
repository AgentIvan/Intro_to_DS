{
 "cells": [
  {
   "cell_type": "markdown",
   "metadata": {},
   "source": [
    "# Повторение некоторых семинарских тем"
   ]
  },
  {
   "cell_type": "code",
   "execution_count": 8,
   "metadata": {},
   "outputs": [],
   "source": [
    "import matplotlib.pyplot as plt\n",
    "import numpy as np\n",
    "import pandas as pd\n",
    "import seaborn as sns\n",
    "from sklearn.linear_model import LinearRegression, Ridge\n",
    "from sklearn.metrics import mean_absolute_error, mean_squared_error\n",
    "from sklearn.model_selection import train_test_split\n",
    "from sklearn.preprocessing import MinMaxScaler\n",
    "from statsmodels.stats.weightstats import _zconfint_generic\n",
    "from statsmodels.stats.weightstats import ztest\n",
    "\n",
    "%matplotlib inline"
   ]
  },
  {
   "cell_type": "markdown",
   "metadata": {},
   "source": [
    "## Python\n",
    "Вам дан словарь типичного программиста. На вход поступает строка `sequence` с разделёнными пробелами словами.\n",
    "\n",
    "Необходимо вывести то же самое предложение, но \"перевести\" слова, которые есть в словаре. Если перевода в словаре нет, вывести исходное слово.\n",
    "\n",
    "Спойлер: чтобы проверить, что в некотором объекте присутствует элемент, можно воспользоваться оператором `in`."
   ]
  },
  {
   "cell_type": "code",
   "execution_count": 9,
   "metadata": {},
   "outputs": [
    {
     "name": "stdout",
     "output_type": "stream",
     "text": [
      "circus is not in dict!\n"
     ]
    }
   ],
   "source": [
    "geek_dict = {\n",
    "    'bug': 'mistake',\n",
    "    'debug': 'find a mistake',\n",
    "    'deep': 'learning',\n",
    "    'monty': 'python',\n",
    "    'jimmy': 'newbie'\n",
    "}\n",
    "\n",
    "# оператор in позволяет узнать, есть ли слово в словаре\n",
    "some_word = 'circus'\n",
    "if some_word in geek_dict:\n",
    "    print(some_word + ' is in dict.')\n",
    "else:\n",
    "    print(some_word + ' is not in dict!')"
   ]
  },
  {
   "cell_type": "code",
   "execution_count": 10,
   "metadata": {},
   "outputs": [
    {
     "name": "stdout",
     "output_type": "stream",
     "text": [
      "python worked hard all night and found a mistake "
     ]
    }
   ],
   "source": [
    "sequence = 'monty worked hard all night and found a bug'\n",
    "\n",
    "# YOUR CODE\n",
    "# превращаем строку с предложением в список слов\n",
    "words = sequence.split()\n",
    "# цикл по списку слов\n",
    "for w in words:  # w = 'monty'\n",
    "    # проверка, лежит ли слово в словаре\n",
    "    if w in geek_dict:\n",
    "    # print перевод слова или само слово\n",
    "        print(geek_dict[w], end=' ')\n",
    "    else:\n",
    "        print(w, end=' ')"
   ]
  },
  {
   "cell_type": "markdown",
   "metadata": {},
   "source": [
    "## Статистика и визуализация\n",
    "Будем анализировать [данные](https://www.kaggle.com/kaggle/kaggle-survey-2017) за 2017 год о зарплатах людей с карьерой в Data Science. Таблица заранее предобработана, из неё удалены неинтересные для нам столбцы, а все зарплаты переведены в USD.\n",
    "\n",
    "\n",
    "Таблица лежит в файле `ds_salary.csv` и содержит ответы людей из разных страны на вопросы про работу / зарплату / образование:"
   ]
  },
  {
   "cell_type": "code",
   "execution_count": 11,
   "metadata": {},
   "outputs": [
    {
     "data": {
      "text/html": [
       "<div>\n",
       "<style scoped>\n",
       "    .dataframe tbody tr th:only-of-type {\n",
       "        vertical-align: middle;\n",
       "    }\n",
       "\n",
       "    .dataframe tbody tr th {\n",
       "        vertical-align: top;\n",
       "    }\n",
       "\n",
       "    .dataframe thead th {\n",
       "        text-align: right;\n",
       "    }\n",
       "</style>\n",
       "<table border=\"1\" class=\"dataframe\">\n",
       "  <thead>\n",
       "    <tr style=\"text-align: right;\">\n",
       "      <th></th>\n",
       "      <th>GenderSelect</th>\n",
       "      <th>Country</th>\n",
       "      <th>Age</th>\n",
       "      <th>CurrentJobTitleSelect</th>\n",
       "      <th>LanguageRecommendationSelect</th>\n",
       "      <th>FormalEducation</th>\n",
       "      <th>MLSkillsSelect</th>\n",
       "      <th>EmployerIndustry</th>\n",
       "      <th>TimeGatheringData</th>\n",
       "      <th>TimeModelBuilding</th>\n",
       "      <th>TimeProduction</th>\n",
       "      <th>TimeVisualizing</th>\n",
       "      <th>TimeFindingInsights</th>\n",
       "      <th>TimeOtherSelect</th>\n",
       "      <th>JobSatisfaction</th>\n",
       "      <th>CompensationUSD</th>\n",
       "    </tr>\n",
       "  </thead>\n",
       "  <tbody>\n",
       "    <tr>\n",
       "      <th>0</th>\n",
       "      <td>Male</td>\n",
       "      <td>United States</td>\n",
       "      <td>56.0</td>\n",
       "      <td>Operations Research Practitioner</td>\n",
       "      <td>Python</td>\n",
       "      <td>Master's degree</td>\n",
       "      <td>Recommendation Engines,Reinforcement learning,...</td>\n",
       "      <td>Mix of fields</td>\n",
       "      <td>50.0</td>\n",
       "      <td>20.0</td>\n",
       "      <td>0.0</td>\n",
       "      <td>10.0</td>\n",
       "      <td>20.0</td>\n",
       "      <td>0.0</td>\n",
       "      <td>10.0</td>\n",
       "      <td>250000.0</td>\n",
       "    </tr>\n",
       "    <tr>\n",
       "      <th>1</th>\n",
       "      <td>Female</td>\n",
       "      <td>Australia</td>\n",
       "      <td>43.0</td>\n",
       "      <td>Business Analyst</td>\n",
       "      <td>Python</td>\n",
       "      <td>Bachelor's degree</td>\n",
       "      <td>Supervised Machine Learning (Tabular Data)</td>\n",
       "      <td>Non-profit</td>\n",
       "      <td>60.0</td>\n",
       "      <td>10.0</td>\n",
       "      <td>5.0</td>\n",
       "      <td>15.0</td>\n",
       "      <td>10.0</td>\n",
       "      <td>0.0</td>\n",
       "      <td>7.0</td>\n",
       "      <td>64184.8</td>\n",
       "    </tr>\n",
       "    <tr>\n",
       "      <th>2</th>\n",
       "      <td>Male</td>\n",
       "      <td>Russia</td>\n",
       "      <td>33.0</td>\n",
       "      <td>Software Developer/Software Engineer</td>\n",
       "      <td>Python</td>\n",
       "      <td>Bachelor's degree</td>\n",
       "      <td>Supervised Machine Learning (Tabular Data),Tim...</td>\n",
       "      <td>Internet-based</td>\n",
       "      <td>40.0</td>\n",
       "      <td>30.0</td>\n",
       "      <td>15.0</td>\n",
       "      <td>10.0</td>\n",
       "      <td>5.0</td>\n",
       "      <td>0.0</td>\n",
       "      <td>7.0</td>\n",
       "      <td>20882.4</td>\n",
       "    </tr>\n",
       "    <tr>\n",
       "      <th>3</th>\n",
       "      <td>Male</td>\n",
       "      <td>India</td>\n",
       "      <td>27.0</td>\n",
       "      <td>Data Scientist</td>\n",
       "      <td>Python</td>\n",
       "      <td>Bachelor's degree</td>\n",
       "      <td>Computer Vision,Natural Language Processing,Re...</td>\n",
       "      <td>Mix of fields</td>\n",
       "      <td>30.0</td>\n",
       "      <td>20.0</td>\n",
       "      <td>10.0</td>\n",
       "      <td>10.0</td>\n",
       "      <td>30.0</td>\n",
       "      <td>0.0</td>\n",
       "      <td>7.0</td>\n",
       "      <td>1483.9</td>\n",
       "    </tr>\n",
       "    <tr>\n",
       "      <th>4</th>\n",
       "      <td>Male</td>\n",
       "      <td>Taiwan</td>\n",
       "      <td>26.0</td>\n",
       "      <td>Software Developer/Software Engineer</td>\n",
       "      <td>Python</td>\n",
       "      <td>Master's degree</td>\n",
       "      <td>Supervised Machine Learning (Tabular Data)</td>\n",
       "      <td>Financial</td>\n",
       "      <td>35.0</td>\n",
       "      <td>20.0</td>\n",
       "      <td>25.0</td>\n",
       "      <td>10.0</td>\n",
       "      <td>10.0</td>\n",
       "      <td>0.0</td>\n",
       "      <td>5.0</td>\n",
       "      <td>36634.4</td>\n",
       "    </tr>\n",
       "  </tbody>\n",
       "</table>\n",
       "</div>"
      ],
      "text/plain": [
       "  GenderSelect        Country   Age                 CurrentJobTitleSelect  \\\n",
       "0         Male  United States  56.0      Operations Research Practitioner   \n",
       "1       Female      Australia  43.0                      Business Analyst   \n",
       "2         Male         Russia  33.0  Software Developer/Software Engineer   \n",
       "3         Male          India  27.0                        Data Scientist   \n",
       "4         Male         Taiwan  26.0  Software Developer/Software Engineer   \n",
       "\n",
       "  LanguageRecommendationSelect    FormalEducation  \\\n",
       "0                       Python    Master's degree   \n",
       "1                       Python  Bachelor's degree   \n",
       "2                       Python  Bachelor's degree   \n",
       "3                       Python  Bachelor's degree   \n",
       "4                       Python    Master's degree   \n",
       "\n",
       "                                      MLSkillsSelect EmployerIndustry  \\\n",
       "0  Recommendation Engines,Reinforcement learning,...    Mix of fields   \n",
       "1         Supervised Machine Learning (Tabular Data)       Non-profit   \n",
       "2  Supervised Machine Learning (Tabular Data),Tim...   Internet-based   \n",
       "3  Computer Vision,Natural Language Processing,Re...    Mix of fields   \n",
       "4         Supervised Machine Learning (Tabular Data)        Financial   \n",
       "\n",
       "   TimeGatheringData  TimeModelBuilding  TimeProduction  TimeVisualizing  \\\n",
       "0               50.0               20.0             0.0             10.0   \n",
       "1               60.0               10.0             5.0             15.0   \n",
       "2               40.0               30.0            15.0             10.0   \n",
       "3               30.0               20.0            10.0             10.0   \n",
       "4               35.0               20.0            25.0             10.0   \n",
       "\n",
       "   TimeFindingInsights  TimeOtherSelect  JobSatisfaction  CompensationUSD  \n",
       "0                 20.0              0.0             10.0         250000.0  \n",
       "1                 10.0              0.0              7.0          64184.8  \n",
       "2                  5.0              0.0              7.0          20882.4  \n",
       "3                 30.0              0.0              7.0           1483.9  \n",
       "4                 10.0              0.0              5.0          36634.4  "
      ]
     },
     "execution_count": 11,
     "metadata": {},
     "output_type": "execute_result"
    }
   ],
   "source": [
    "data = pd.read_csv('ds_salary.csv')\n",
    "data.head()"
   ]
  },
  {
   "cell_type": "code",
   "execution_count": 12,
   "metadata": {
    "scrolled": true
   },
   "outputs": [
    {
     "name": "stdout",
     "output_type": "stream",
     "text": [
      "<class 'pandas.core.frame.DataFrame'>\n",
      "RangeIndex: 4373 entries, 0 to 4372\n",
      "Data columns (total 16 columns):\n",
      " #   Column                        Non-Null Count  Dtype  \n",
      "---  ------                        --------------  -----  \n",
      " 0   GenderSelect                  4368 non-null   object \n",
      " 1   Country                       4366 non-null   object \n",
      " 2   Age                           4346 non-null   float64\n",
      " 3   CurrentJobTitleSelect         4372 non-null   object \n",
      " 4   LanguageRecommendationSelect  4271 non-null   object \n",
      " 5   FormalEducation               4372 non-null   object \n",
      " 6   MLSkillsSelect                4200 non-null   object \n",
      " 7   EmployerIndustry              4369 non-null   object \n",
      " 8   TimeGatheringData             4373 non-null   float64\n",
      " 9   TimeModelBuilding             4371 non-null   float64\n",
      " 10  TimeProduction                4364 non-null   float64\n",
      " 11  TimeVisualizing               4371 non-null   float64\n",
      " 12  TimeFindingInsights           4369 non-null   float64\n",
      " 13  TimeOtherSelect               4359 non-null   float64\n",
      " 14  JobSatisfaction               4361 non-null   float64\n",
      " 15  CompensationUSD               4373 non-null   float64\n",
      "dtypes: float64(9), object(7)\n",
      "memory usage: 546.8+ KB\n"
     ]
    }
   ],
   "source": [
    "data.info()"
   ]
  },
  {
   "cell_type": "markdown",
   "metadata": {},
   "source": [
    "Выведем количество данных по каждой стране:"
   ]
  },
  {
   "cell_type": "code",
   "execution_count": 13,
   "metadata": {
    "scrolled": true
   },
   "outputs": [
    {
     "data": {
      "text/plain": [
       "United States     1223\n",
       "India              498\n",
       "Other              228\n",
       "United Kingdom     168\n",
       "Russia             156\n",
       "Germany            147\n",
       "France             143\n",
       "Brazil             138\n",
       "Canada             118\n",
       "Spain              111\n",
       "Australia          110\n",
       "China               86\n",
       "Japan               81\n",
       "Italy               75\n",
       "Netherlands         73\n",
       "Taiwan              58\n",
       "Poland              54\n",
       "Mexico              51\n",
       "South Africa        49\n",
       "Singapore           49\n",
       "Ukraine             45\n",
       "Switzerland         45\n",
       "Colombia            44\n",
       "Pakistan            35\n",
       "Belgium             33\n",
       "Turkey              31\n",
       "Israel              30\n",
       "Finland             29\n",
       "Ireland             28\n",
       "Denmark             28\n",
       "Argentina           27\n",
       "Portugal            27\n",
       "South Korea         26\n",
       "Sweden              26\n",
       "Indonesia           26\n",
       "Philippines         25\n",
       "Iran                23\n",
       "Greece              23\n",
       "Czech Republic      21\n",
       "Chile               21\n",
       "Nigeria             19\n",
       "Hungary             18\n",
       "New Zealand         18\n",
       "Hong Kong           18\n",
       "Norway              18\n",
       "Malaysia            17\n",
       "Kenya               15\n",
       "Egypt               11\n",
       "Romania              9\n",
       "Vietnam              9\n",
       "Belarus              5\n",
       "Name: Country, dtype: int64"
      ]
     },
     "execution_count": 13,
     "metadata": {},
     "output_type": "execute_result"
    }
   ],
   "source": [
    "data.Country.value_counts()"
   ]
  },
  {
   "cell_type": "markdown",
   "metadata": {},
   "source": [
    "Видим, что данных по разным странам довольно много, но некоторым почти совсем нет. Когда данных мало, сложно что-то надёжно предсказывать.\n",
    "Удалите из таблицы страны, по которым меньше 20 ответов."
   ]
  },
  {
   "cell_type": "code",
   "execution_count": 14,
   "metadata": {
    "scrolled": true
   },
   "outputs": [
    {
     "data": {
      "text/html": [
       "<div>\n",
       "<style scoped>\n",
       "    .dataframe tbody tr th:only-of-type {\n",
       "        vertical-align: middle;\n",
       "    }\n",
       "\n",
       "    .dataframe tbody tr th {\n",
       "        vertical-align: top;\n",
       "    }\n",
       "\n",
       "    .dataframe thead th {\n",
       "        text-align: right;\n",
       "    }\n",
       "</style>\n",
       "<table border=\"1\" class=\"dataframe\">\n",
       "  <thead>\n",
       "    <tr style=\"text-align: right;\">\n",
       "      <th></th>\n",
       "      <th>GenderSelect</th>\n",
       "      <th>Country</th>\n",
       "      <th>Age</th>\n",
       "      <th>CurrentJobTitleSelect</th>\n",
       "      <th>LanguageRecommendationSelect</th>\n",
       "      <th>FormalEducation</th>\n",
       "      <th>MLSkillsSelect</th>\n",
       "      <th>EmployerIndustry</th>\n",
       "      <th>TimeGatheringData</th>\n",
       "      <th>TimeModelBuilding</th>\n",
       "      <th>TimeProduction</th>\n",
       "      <th>TimeVisualizing</th>\n",
       "      <th>TimeFindingInsights</th>\n",
       "      <th>TimeOtherSelect</th>\n",
       "      <th>JobSatisfaction</th>\n",
       "      <th>CompensationUSD</th>\n",
       "    </tr>\n",
       "  </thead>\n",
       "  <tbody>\n",
       "    <tr>\n",
       "      <th>0</th>\n",
       "      <td>Male</td>\n",
       "      <td>United States</td>\n",
       "      <td>56.0</td>\n",
       "      <td>Operations Research Practitioner</td>\n",
       "      <td>Python</td>\n",
       "      <td>Master's degree</td>\n",
       "      <td>Recommendation Engines,Reinforcement learning,...</td>\n",
       "      <td>Mix of fields</td>\n",
       "      <td>50.0</td>\n",
       "      <td>20.0</td>\n",
       "      <td>0.0</td>\n",
       "      <td>10.0</td>\n",
       "      <td>20.0</td>\n",
       "      <td>0.0</td>\n",
       "      <td>10.0</td>\n",
       "      <td>250000.0</td>\n",
       "    </tr>\n",
       "    <tr>\n",
       "      <th>1</th>\n",
       "      <td>Female</td>\n",
       "      <td>Australia</td>\n",
       "      <td>43.0</td>\n",
       "      <td>Business Analyst</td>\n",
       "      <td>Python</td>\n",
       "      <td>Bachelor's degree</td>\n",
       "      <td>Supervised Machine Learning (Tabular Data)</td>\n",
       "      <td>Non-profit</td>\n",
       "      <td>60.0</td>\n",
       "      <td>10.0</td>\n",
       "      <td>5.0</td>\n",
       "      <td>15.0</td>\n",
       "      <td>10.0</td>\n",
       "      <td>0.0</td>\n",
       "      <td>7.0</td>\n",
       "      <td>64184.8</td>\n",
       "    </tr>\n",
       "    <tr>\n",
       "      <th>2</th>\n",
       "      <td>Male</td>\n",
       "      <td>Russia</td>\n",
       "      <td>33.0</td>\n",
       "      <td>Software Developer/Software Engineer</td>\n",
       "      <td>Python</td>\n",
       "      <td>Bachelor's degree</td>\n",
       "      <td>Supervised Machine Learning (Tabular Data),Tim...</td>\n",
       "      <td>Internet-based</td>\n",
       "      <td>40.0</td>\n",
       "      <td>30.0</td>\n",
       "      <td>15.0</td>\n",
       "      <td>10.0</td>\n",
       "      <td>5.0</td>\n",
       "      <td>0.0</td>\n",
       "      <td>7.0</td>\n",
       "      <td>20882.4</td>\n",
       "    </tr>\n",
       "    <tr>\n",
       "      <th>3</th>\n",
       "      <td>Male</td>\n",
       "      <td>India</td>\n",
       "      <td>27.0</td>\n",
       "      <td>Data Scientist</td>\n",
       "      <td>Python</td>\n",
       "      <td>Bachelor's degree</td>\n",
       "      <td>Computer Vision,Natural Language Processing,Re...</td>\n",
       "      <td>Mix of fields</td>\n",
       "      <td>30.0</td>\n",
       "      <td>20.0</td>\n",
       "      <td>10.0</td>\n",
       "      <td>10.0</td>\n",
       "      <td>30.0</td>\n",
       "      <td>0.0</td>\n",
       "      <td>7.0</td>\n",
       "      <td>1483.9</td>\n",
       "    </tr>\n",
       "    <tr>\n",
       "      <th>4</th>\n",
       "      <td>Male</td>\n",
       "      <td>Taiwan</td>\n",
       "      <td>26.0</td>\n",
       "      <td>Software Developer/Software Engineer</td>\n",
       "      <td>Python</td>\n",
       "      <td>Master's degree</td>\n",
       "      <td>Supervised Machine Learning (Tabular Data)</td>\n",
       "      <td>Financial</td>\n",
       "      <td>35.0</td>\n",
       "      <td>20.0</td>\n",
       "      <td>25.0</td>\n",
       "      <td>10.0</td>\n",
       "      <td>10.0</td>\n",
       "      <td>0.0</td>\n",
       "      <td>5.0</td>\n",
       "      <td>36634.4</td>\n",
       "    </tr>\n",
       "  </tbody>\n",
       "</table>\n",
       "</div>"
      ],
      "text/plain": [
       "  GenderSelect        Country   Age                 CurrentJobTitleSelect  \\\n",
       "0         Male  United States  56.0      Operations Research Practitioner   \n",
       "1       Female      Australia  43.0                      Business Analyst   \n",
       "2         Male         Russia  33.0  Software Developer/Software Engineer   \n",
       "3         Male          India  27.0                        Data Scientist   \n",
       "4         Male         Taiwan  26.0  Software Developer/Software Engineer   \n",
       "\n",
       "  LanguageRecommendationSelect    FormalEducation  \\\n",
       "0                       Python    Master's degree   \n",
       "1                       Python  Bachelor's degree   \n",
       "2                       Python  Bachelor's degree   \n",
       "3                       Python  Bachelor's degree   \n",
       "4                       Python    Master's degree   \n",
       "\n",
       "                                      MLSkillsSelect EmployerIndustry  \\\n",
       "0  Recommendation Engines,Reinforcement learning,...    Mix of fields   \n",
       "1         Supervised Machine Learning (Tabular Data)       Non-profit   \n",
       "2  Supervised Machine Learning (Tabular Data),Tim...   Internet-based   \n",
       "3  Computer Vision,Natural Language Processing,Re...    Mix of fields   \n",
       "4         Supervised Machine Learning (Tabular Data)        Financial   \n",
       "\n",
       "   TimeGatheringData  TimeModelBuilding  TimeProduction  TimeVisualizing  \\\n",
       "0               50.0               20.0             0.0             10.0   \n",
       "1               60.0               10.0             5.0             15.0   \n",
       "2               40.0               30.0            15.0             10.0   \n",
       "3               30.0               20.0            10.0             10.0   \n",
       "4               35.0               20.0            25.0             10.0   \n",
       "\n",
       "   TimeFindingInsights  TimeOtherSelect  JobSatisfaction  CompensationUSD  \n",
       "0                 20.0              0.0             10.0         250000.0  \n",
       "1                 10.0              0.0              7.0          64184.8  \n",
       "2                  5.0              0.0              7.0          20882.4  \n",
       "3                 30.0              0.0              7.0           1483.9  \n",
       "4                 10.0              0.0              5.0          36634.4  "
      ]
     },
     "execution_count": 14,
     "metadata": {},
     "output_type": "execute_result"
    }
   ],
   "source": [
    "# YOUR CODE\n",
    "data_vc = data.Country.value_counts()\n",
    "data = data[data.Country.isin(data_vc[data_vc > 20].index)]\n",
    "data.head()"
   ]
  },
  {
   "cell_type": "markdown",
   "metadata": {},
   "source": [
    "Заменим столбцы с перечислением навыков человека на количество навыков, которые он указал:"
   ]
  },
  {
   "cell_type": "code",
   "execution_count": 15,
   "metadata": {},
   "outputs": [
    {
     "data": {
      "text/plain": [
       "['R', 'A', 'B', 'C']"
      ]
     },
     "execution_count": 15,
     "metadata": {},
     "output_type": "execute_result"
    }
   ],
   "source": [
    "'R,A,B,C'.split(',')"
   ]
  },
  {
   "cell_type": "code",
   "execution_count": 16,
   "metadata": {},
   "outputs": [
    {
     "data": {
      "text/html": [
       "<div>\n",
       "<style scoped>\n",
       "    .dataframe tbody tr th:only-of-type {\n",
       "        vertical-align: middle;\n",
       "    }\n",
       "\n",
       "    .dataframe tbody tr th {\n",
       "        vertical-align: top;\n",
       "    }\n",
       "\n",
       "    .dataframe thead th {\n",
       "        text-align: right;\n",
       "    }\n",
       "</style>\n",
       "<table border=\"1\" class=\"dataframe\">\n",
       "  <thead>\n",
       "    <tr style=\"text-align: right;\">\n",
       "      <th></th>\n",
       "      <th>GenderSelect</th>\n",
       "      <th>Country</th>\n",
       "      <th>Age</th>\n",
       "      <th>CurrentJobTitleSelect</th>\n",
       "      <th>LanguageRecommendationSelect</th>\n",
       "      <th>FormalEducation</th>\n",
       "      <th>EmployerIndustry</th>\n",
       "      <th>TimeGatheringData</th>\n",
       "      <th>TimeModelBuilding</th>\n",
       "      <th>TimeProduction</th>\n",
       "      <th>TimeVisualizing</th>\n",
       "      <th>TimeFindingInsights</th>\n",
       "      <th>TimeOtherSelect</th>\n",
       "      <th>JobSatisfaction</th>\n",
       "      <th>CompensationUSD</th>\n",
       "      <th>SkillsCount</th>\n",
       "    </tr>\n",
       "  </thead>\n",
       "  <tbody>\n",
       "    <tr>\n",
       "      <th>0</th>\n",
       "      <td>Male</td>\n",
       "      <td>United States</td>\n",
       "      <td>56.0</td>\n",
       "      <td>Operations Research Practitioner</td>\n",
       "      <td>Python</td>\n",
       "      <td>Master's degree</td>\n",
       "      <td>Mix of fields</td>\n",
       "      <td>50.0</td>\n",
       "      <td>20.0</td>\n",
       "      <td>0.0</td>\n",
       "      <td>10.0</td>\n",
       "      <td>20.0</td>\n",
       "      <td>0.0</td>\n",
       "      <td>10.0</td>\n",
       "      <td>250000.0</td>\n",
       "      <td>6</td>\n",
       "    </tr>\n",
       "    <tr>\n",
       "      <th>1</th>\n",
       "      <td>Female</td>\n",
       "      <td>Australia</td>\n",
       "      <td>43.0</td>\n",
       "      <td>Business Analyst</td>\n",
       "      <td>Python</td>\n",
       "      <td>Bachelor's degree</td>\n",
       "      <td>Non-profit</td>\n",
       "      <td>60.0</td>\n",
       "      <td>10.0</td>\n",
       "      <td>5.0</td>\n",
       "      <td>15.0</td>\n",
       "      <td>10.0</td>\n",
       "      <td>0.0</td>\n",
       "      <td>7.0</td>\n",
       "      <td>64184.8</td>\n",
       "      <td>1</td>\n",
       "    </tr>\n",
       "    <tr>\n",
       "      <th>2</th>\n",
       "      <td>Male</td>\n",
       "      <td>Russia</td>\n",
       "      <td>33.0</td>\n",
       "      <td>Software Developer/Software Engineer</td>\n",
       "      <td>Python</td>\n",
       "      <td>Bachelor's degree</td>\n",
       "      <td>Internet-based</td>\n",
       "      <td>40.0</td>\n",
       "      <td>30.0</td>\n",
       "      <td>15.0</td>\n",
       "      <td>10.0</td>\n",
       "      <td>5.0</td>\n",
       "      <td>0.0</td>\n",
       "      <td>7.0</td>\n",
       "      <td>20882.4</td>\n",
       "      <td>3</td>\n",
       "    </tr>\n",
       "    <tr>\n",
       "      <th>3</th>\n",
       "      <td>Male</td>\n",
       "      <td>India</td>\n",
       "      <td>27.0</td>\n",
       "      <td>Data Scientist</td>\n",
       "      <td>Python</td>\n",
       "      <td>Bachelor's degree</td>\n",
       "      <td>Mix of fields</td>\n",
       "      <td>30.0</td>\n",
       "      <td>20.0</td>\n",
       "      <td>10.0</td>\n",
       "      <td>10.0</td>\n",
       "      <td>30.0</td>\n",
       "      <td>0.0</td>\n",
       "      <td>7.0</td>\n",
       "      <td>1483.9</td>\n",
       "      <td>6</td>\n",
       "    </tr>\n",
       "    <tr>\n",
       "      <th>4</th>\n",
       "      <td>Male</td>\n",
       "      <td>Taiwan</td>\n",
       "      <td>26.0</td>\n",
       "      <td>Software Developer/Software Engineer</td>\n",
       "      <td>Python</td>\n",
       "      <td>Master's degree</td>\n",
       "      <td>Financial</td>\n",
       "      <td>35.0</td>\n",
       "      <td>20.0</td>\n",
       "      <td>25.0</td>\n",
       "      <td>10.0</td>\n",
       "      <td>10.0</td>\n",
       "      <td>0.0</td>\n",
       "      <td>5.0</td>\n",
       "      <td>36634.4</td>\n",
       "      <td>1</td>\n",
       "    </tr>\n",
       "  </tbody>\n",
       "</table>\n",
       "</div>"
      ],
      "text/plain": [
       "  GenderSelect        Country   Age                 CurrentJobTitleSelect  \\\n",
       "0         Male  United States  56.0      Operations Research Practitioner   \n",
       "1       Female      Australia  43.0                      Business Analyst   \n",
       "2         Male         Russia  33.0  Software Developer/Software Engineer   \n",
       "3         Male          India  27.0                        Data Scientist   \n",
       "4         Male         Taiwan  26.0  Software Developer/Software Engineer   \n",
       "\n",
       "  LanguageRecommendationSelect    FormalEducation EmployerIndustry  \\\n",
       "0                       Python    Master's degree    Mix of fields   \n",
       "1                       Python  Bachelor's degree       Non-profit   \n",
       "2                       Python  Bachelor's degree   Internet-based   \n",
       "3                       Python  Bachelor's degree    Mix of fields   \n",
       "4                       Python    Master's degree        Financial   \n",
       "\n",
       "   TimeGatheringData  TimeModelBuilding  TimeProduction  TimeVisualizing  \\\n",
       "0               50.0               20.0             0.0             10.0   \n",
       "1               60.0               10.0             5.0             15.0   \n",
       "2               40.0               30.0            15.0             10.0   \n",
       "3               30.0               20.0            10.0             10.0   \n",
       "4               35.0               20.0            25.0             10.0   \n",
       "\n",
       "   TimeFindingInsights  TimeOtherSelect  JobSatisfaction  CompensationUSD  \\\n",
       "0                 20.0              0.0             10.0         250000.0   \n",
       "1                 10.0              0.0              7.0          64184.8   \n",
       "2                  5.0              0.0              7.0          20882.4   \n",
       "3                 30.0              0.0              7.0           1483.9   \n",
       "4                 10.0              0.0              5.0          36634.4   \n",
       "\n",
       "   SkillsCount  \n",
       "0            6  \n",
       "1            1  \n",
       "2            3  \n",
       "3            6  \n",
       "4            1  "
      ]
     },
     "execution_count": 16,
     "metadata": {},
     "output_type": "execute_result"
    }
   ],
   "source": [
    "data['SkillsCount'] = data.MLSkillsSelect.fillna('').apply(lambda x: len(x.split(',')))\n",
    "data.drop('MLSkillsSelect', axis=1, inplace=True)\n",
    "data.head()"
   ]
  },
  {
   "cell_type": "markdown",
   "metadata": {},
   "source": [
    "Заменим `Male` на 1, а `Female` на 0:"
   ]
  },
  {
   "cell_type": "code",
   "execution_count": 17,
   "metadata": {},
   "outputs": [
    {
     "data": {
      "text/html": [
       "<div>\n",
       "<style scoped>\n",
       "    .dataframe tbody tr th:only-of-type {\n",
       "        vertical-align: middle;\n",
       "    }\n",
       "\n",
       "    .dataframe tbody tr th {\n",
       "        vertical-align: top;\n",
       "    }\n",
       "\n",
       "    .dataframe thead th {\n",
       "        text-align: right;\n",
       "    }\n",
       "</style>\n",
       "<table border=\"1\" class=\"dataframe\">\n",
       "  <thead>\n",
       "    <tr style=\"text-align: right;\">\n",
       "      <th></th>\n",
       "      <th>Country</th>\n",
       "      <th>Age</th>\n",
       "      <th>CurrentJobTitleSelect</th>\n",
       "      <th>LanguageRecommendationSelect</th>\n",
       "      <th>FormalEducation</th>\n",
       "      <th>EmployerIndustry</th>\n",
       "      <th>TimeGatheringData</th>\n",
       "      <th>TimeModelBuilding</th>\n",
       "      <th>TimeProduction</th>\n",
       "      <th>TimeVisualizing</th>\n",
       "      <th>TimeFindingInsights</th>\n",
       "      <th>TimeOtherSelect</th>\n",
       "      <th>JobSatisfaction</th>\n",
       "      <th>CompensationUSD</th>\n",
       "      <th>SkillsCount</th>\n",
       "      <th>MaleDummy</th>\n",
       "    </tr>\n",
       "  </thead>\n",
       "  <tbody>\n",
       "    <tr>\n",
       "      <th>0</th>\n",
       "      <td>United States</td>\n",
       "      <td>56.0</td>\n",
       "      <td>Operations Research Practitioner</td>\n",
       "      <td>Python</td>\n",
       "      <td>Master's degree</td>\n",
       "      <td>Mix of fields</td>\n",
       "      <td>50.0</td>\n",
       "      <td>20.0</td>\n",
       "      <td>0.0</td>\n",
       "      <td>10.0</td>\n",
       "      <td>20.0</td>\n",
       "      <td>0.0</td>\n",
       "      <td>10.0</td>\n",
       "      <td>250000.0</td>\n",
       "      <td>6</td>\n",
       "      <td>1</td>\n",
       "    </tr>\n",
       "    <tr>\n",
       "      <th>1</th>\n",
       "      <td>Australia</td>\n",
       "      <td>43.0</td>\n",
       "      <td>Business Analyst</td>\n",
       "      <td>Python</td>\n",
       "      <td>Bachelor's degree</td>\n",
       "      <td>Non-profit</td>\n",
       "      <td>60.0</td>\n",
       "      <td>10.0</td>\n",
       "      <td>5.0</td>\n",
       "      <td>15.0</td>\n",
       "      <td>10.0</td>\n",
       "      <td>0.0</td>\n",
       "      <td>7.0</td>\n",
       "      <td>64184.8</td>\n",
       "      <td>1</td>\n",
       "      <td>0</td>\n",
       "    </tr>\n",
       "    <tr>\n",
       "      <th>2</th>\n",
       "      <td>Russia</td>\n",
       "      <td>33.0</td>\n",
       "      <td>Software Developer/Software Engineer</td>\n",
       "      <td>Python</td>\n",
       "      <td>Bachelor's degree</td>\n",
       "      <td>Internet-based</td>\n",
       "      <td>40.0</td>\n",
       "      <td>30.0</td>\n",
       "      <td>15.0</td>\n",
       "      <td>10.0</td>\n",
       "      <td>5.0</td>\n",
       "      <td>0.0</td>\n",
       "      <td>7.0</td>\n",
       "      <td>20882.4</td>\n",
       "      <td>3</td>\n",
       "      <td>1</td>\n",
       "    </tr>\n",
       "    <tr>\n",
       "      <th>3</th>\n",
       "      <td>India</td>\n",
       "      <td>27.0</td>\n",
       "      <td>Data Scientist</td>\n",
       "      <td>Python</td>\n",
       "      <td>Bachelor's degree</td>\n",
       "      <td>Mix of fields</td>\n",
       "      <td>30.0</td>\n",
       "      <td>20.0</td>\n",
       "      <td>10.0</td>\n",
       "      <td>10.0</td>\n",
       "      <td>30.0</td>\n",
       "      <td>0.0</td>\n",
       "      <td>7.0</td>\n",
       "      <td>1483.9</td>\n",
       "      <td>6</td>\n",
       "      <td>1</td>\n",
       "    </tr>\n",
       "    <tr>\n",
       "      <th>4</th>\n",
       "      <td>Taiwan</td>\n",
       "      <td>26.0</td>\n",
       "      <td>Software Developer/Software Engineer</td>\n",
       "      <td>Python</td>\n",
       "      <td>Master's degree</td>\n",
       "      <td>Financial</td>\n",
       "      <td>35.0</td>\n",
       "      <td>20.0</td>\n",
       "      <td>25.0</td>\n",
       "      <td>10.0</td>\n",
       "      <td>10.0</td>\n",
       "      <td>0.0</td>\n",
       "      <td>5.0</td>\n",
       "      <td>36634.4</td>\n",
       "      <td>1</td>\n",
       "      <td>1</td>\n",
       "    </tr>\n",
       "  </tbody>\n",
       "</table>\n",
       "</div>"
      ],
      "text/plain": [
       "         Country   Age                 CurrentJobTitleSelect  \\\n",
       "0  United States  56.0      Operations Research Practitioner   \n",
       "1      Australia  43.0                      Business Analyst   \n",
       "2         Russia  33.0  Software Developer/Software Engineer   \n",
       "3          India  27.0                        Data Scientist   \n",
       "4         Taiwan  26.0  Software Developer/Software Engineer   \n",
       "\n",
       "  LanguageRecommendationSelect    FormalEducation EmployerIndustry  \\\n",
       "0                       Python    Master's degree    Mix of fields   \n",
       "1                       Python  Bachelor's degree       Non-profit   \n",
       "2                       Python  Bachelor's degree   Internet-based   \n",
       "3                       Python  Bachelor's degree    Mix of fields   \n",
       "4                       Python    Master's degree        Financial   \n",
       "\n",
       "   TimeGatheringData  TimeModelBuilding  TimeProduction  TimeVisualizing  \\\n",
       "0               50.0               20.0             0.0             10.0   \n",
       "1               60.0               10.0             5.0             15.0   \n",
       "2               40.0               30.0            15.0             10.0   \n",
       "3               30.0               20.0            10.0             10.0   \n",
       "4               35.0               20.0            25.0             10.0   \n",
       "\n",
       "   TimeFindingInsights  TimeOtherSelect  JobSatisfaction  CompensationUSD  \\\n",
       "0                 20.0              0.0             10.0         250000.0   \n",
       "1                 10.0              0.0              7.0          64184.8   \n",
       "2                  5.0              0.0              7.0          20882.4   \n",
       "3                 30.0              0.0              7.0           1483.9   \n",
       "4                 10.0              0.0              5.0          36634.4   \n",
       "\n",
       "   SkillsCount  MaleDummy  \n",
       "0            6          1  \n",
       "1            1          0  \n",
       "2            3          1  \n",
       "3            6          1  \n",
       "4            1          1  "
      ]
     },
     "execution_count": 17,
     "metadata": {},
     "output_type": "execute_result"
    }
   ],
   "source": [
    "data['MaleDummy'] = 0\n",
    "data.loc[data.GenderSelect == 'Male', 'MaleDummy'] = 1\n",
    "data.drop('GenderSelect', axis=1, inplace=True)\n",
    "data.head()"
   ]
  },
  {
   "cell_type": "code",
   "execution_count": 18,
   "metadata": {},
   "outputs": [],
   "source": [
    "numerical_columns = [\n",
    "    'Age',\n",
    "    'TimeGatheringData',\n",
    "    'TimeModelBuilding',\n",
    "    'TimeProduction',\n",
    "    'TimeVisualizing',\n",
    "    'TimeFindingInsights',\n",
    "    'TimeOtherSelect',\n",
    "    'JobSatisfaction',\n",
    "    'SkillsCount',\n",
    "    'MaleDummy',\n",
    "    'CompensationUSD'\n",
    "]"
   ]
  },
  {
   "cell_type": "markdown",
   "metadata": {},
   "source": [
    "Заполните пропуски в числовых столбцах медианой."
   ]
  },
  {
   "cell_type": "code",
   "execution_count": 19,
   "metadata": {
    "scrolled": true
   },
   "outputs": [],
   "source": [
    "# YOUR CODE\n",
    "for col in numerical_columns:\n",
    "    med = data[col].median()\n",
    "    data[col].fillna(med, inplace=True)"
   ]
  },
  {
   "cell_type": "markdown",
   "metadata": {},
   "source": [
    "Заполните пропуски в остальных столбцах модой."
   ]
  },
  {
   "cell_type": "code",
   "execution_count": 20,
   "metadata": {
    "scrolled": true
   },
   "outputs": [],
   "source": [
    "# YOUR CODE\n",
    "for col in data.columns:\n",
    "    if col not in numerical_columns:\n",
    "        mod = data[col].mode()\n",
    "        data[col].fillna(mod, inplace=True)"
   ]
  },
  {
   "cell_type": "markdown",
   "metadata": {},
   "source": [
    "Постройте боксплот по возрасту для разных стран."
   ]
  },
  {
   "cell_type": "code",
   "execution_count": 21,
   "metadata": {},
   "outputs": [
    {
     "data": {
      "text/plain": [
       "<matplotlib.axes._subplots.AxesSubplot at 0x22cd8c05348>"
      ]
     },
     "execution_count": 21,
     "metadata": {},
     "output_type": "execute_result"
    },
    {
     "data": {
      "image/png": "[encoded data removed]",
      "text/plain": [
       "<Figure size 1152x288 with 1 Axes>"
      ]
     },
     "metadata": {
      "needs_background": "light"
     },
     "output_type": "display_data"
    }
   ],
   "source": [
    "# YOUR CODE\n",
    "plt.figure(figsize=(16, 4))\n",
    "sns.boxplot('Country', 'Age', data=data)"
   ]
  },
  {
   "cell_type": "markdown",
   "metadata": {},
   "source": [
    "Названия стран довольно длинные, поэтому надписи вдоль Ox \"склеятся\". По нагугленной [ссылке](https://stackoverflow.com/a/44954327) есть решение, как с этим справиться, реализуйте его."
   ]
  },
  {
   "cell_type": "code",
   "execution_count": 22,
   "metadata": {},
   "outputs": [
    {
     "data": {
      "image/png": "[encoded data removed]",
      "text/plain": [
       "<Figure size 1152x288 with 1 Axes>"
      ]
     },
     "metadata": {
      "needs_background": "light"
     },
     "output_type": "display_data"
    }
   ],
   "source": [
    "# YOUR CODE\n",
    "plt.figure(figsize=(16, 4))\n",
    "ax = sns.boxplot('Country', 'CompensationUSD', data=data, showfliers=False)\n",
    "ax.set_xticklabels(ax.get_xticklabels(), rotation=90);"
   ]
  },
  {
   "cell_type": "markdown",
   "metadata": {},
   "source": [
    "Люди, указавшие в возрасте меньше 10 или больше 90 лет -- это выбросы в данных, удалите их из таблицы."
   ]
  },
  {
   "cell_type": "code",
   "execution_count": 23,
   "metadata": {},
   "outputs": [],
   "source": [
    "# YOUR CODE\n",
    "data = data[(data.Age > 10) & (data.Age < 90)]"
   ]
  },
  {
   "cell_type": "markdown",
   "metadata": {},
   "source": [
    "Люди, указавшие зарплату меньше 0 или больше 300k -- это выбросы в данных, удалите их из таблицы."
   ]
  },
  {
   "cell_type": "code",
   "execution_count": 24,
   "metadata": {},
   "outputs": [],
   "source": [
    "# YOUR CODE\n",
    "data = data[(data.CompensationUSD > 0) & (data.CompensationUSD < 300000)]"
   ]
  },
  {
   "cell_type": "markdown",
   "metadata": {},
   "source": [
    "Выведите основные статистики по зарплате `CompensationUSD` (метод `describe`) для каждого уровня образования `FormalEducation`. Различается ли доход у людей с разным уровнем образования?"
   ]
  },
  {
   "cell_type": "code",
   "execution_count": 25,
   "metadata": {
    "scrolled": true
   },
   "outputs": [
    {
     "data": {
      "text/html": [
       "<div>\n",
       "<style scoped>\n",
       "    .dataframe tbody tr th:only-of-type {\n",
       "        vertical-align: middle;\n",
       "    }\n",
       "\n",
       "    .dataframe tbody tr th {\n",
       "        vertical-align: top;\n",
       "    }\n",
       "\n",
       "    .dataframe thead th {\n",
       "        text-align: right;\n",
       "    }\n",
       "</style>\n",
       "<table border=\"1\" class=\"dataframe\">\n",
       "  <thead>\n",
       "    <tr style=\"text-align: right;\">\n",
       "      <th></th>\n",
       "      <th>count</th>\n",
       "      <th>mean</th>\n",
       "      <th>std</th>\n",
       "      <th>min</th>\n",
       "      <th>25%</th>\n",
       "      <th>50%</th>\n",
       "      <th>75%</th>\n",
       "      <th>max</th>\n",
       "    </tr>\n",
       "    <tr>\n",
       "      <th>FormalEducation</th>\n",
       "      <th></th>\n",
       "      <th></th>\n",
       "      <th></th>\n",
       "      <th></th>\n",
       "      <th></th>\n",
       "      <th></th>\n",
       "      <th></th>\n",
       "      <th></th>\n",
       "    </tr>\n",
       "  </thead>\n",
       "  <tbody>\n",
       "    <tr>\n",
       "      <th>Bachelor's degree</th>\n",
       "      <td>1026.0</td>\n",
       "      <td>53700.305115</td>\n",
       "      <td>49826.543230</td>\n",
       "      <td>0.158813</td>\n",
       "      <td>12153.6696</td>\n",
       "      <td>40000.00</td>\n",
       "      <td>82375.0000</td>\n",
       "      <td>250000.0</td>\n",
       "    </tr>\n",
       "    <tr>\n",
       "      <th>Doctoral degree</th>\n",
       "      <td>931.0</td>\n",
       "      <td>84320.579851</td>\n",
       "      <td>58006.888817</td>\n",
       "      <td>2.797536</td>\n",
       "      <td>41853.9100</td>\n",
       "      <td>74258.90</td>\n",
       "      <td>120000.0000</td>\n",
       "      <td>299000.0</td>\n",
       "    </tr>\n",
       "    <tr>\n",
       "      <th>I did not complete any formal education past high school</th>\n",
       "      <td>25.0</td>\n",
       "      <td>66814.514720</td>\n",
       "      <td>58101.777442</td>\n",
       "      <td>11.120000</td>\n",
       "      <td>27324.0000</td>\n",
       "      <td>45000.00</td>\n",
       "      <td>95666.0800</td>\n",
       "      <td>179373.9</td>\n",
       "    </tr>\n",
       "    <tr>\n",
       "      <th>I prefer not to answer</th>\n",
       "      <td>6.0</td>\n",
       "      <td>83352.461667</td>\n",
       "      <td>51406.827045</td>\n",
       "      <td>36720.000000</td>\n",
       "      <td>52500.0000</td>\n",
       "      <td>71853.91</td>\n",
       "      <td>88192.1675</td>\n",
       "      <td>180000.0</td>\n",
       "    </tr>\n",
       "    <tr>\n",
       "      <th>Master's degree</th>\n",
       "      <td>1898.0</td>\n",
       "      <td>63764.806526</td>\n",
       "      <td>51273.555704</td>\n",
       "      <td>0.060000</td>\n",
       "      <td>23430.0000</td>\n",
       "      <td>53812.17</td>\n",
       "      <td>92000.0000</td>\n",
       "      <td>298956.5</td>\n",
       "    </tr>\n",
       "    <tr>\n",
       "      <th>Professional degree</th>\n",
       "      <td>127.0</td>\n",
       "      <td>55400.227640</td>\n",
       "      <td>48256.978243</td>\n",
       "      <td>11.247250</td>\n",
       "      <td>17292.0000</td>\n",
       "      <td>40000.00</td>\n",
       "      <td>84127.0500</td>\n",
       "      <td>230000.0</td>\n",
       "    </tr>\n",
       "    <tr>\n",
       "      <th>Some college/university study without earning a bachelor's degree</th>\n",
       "      <td>105.0</td>\n",
       "      <td>60132.078542</td>\n",
       "      <td>56839.728885</td>\n",
       "      <td>4.454912</td>\n",
       "      <td>12339.8400</td>\n",
       "      <td>40986.00</td>\n",
       "      <td>106000.0000</td>\n",
       "      <td>200000.0</td>\n",
       "    </tr>\n",
       "  </tbody>\n",
       "</table>\n",
       "</div>"
      ],
      "text/plain": [
       "                                                     count          mean  \\\n",
       "FormalEducation                                                            \n",
       "Bachelor's degree                                   1026.0  53700.305115   \n",
       "Doctoral degree                                      931.0  84320.579851   \n",
       "I did not complete any formal education past hi...    25.0  66814.514720   \n",
       "I prefer not to answer                                 6.0  83352.461667   \n",
       "Master's degree                                     1898.0  63764.806526   \n",
       "Professional degree                                  127.0  55400.227640   \n",
       "Some college/university study without earning a...   105.0  60132.078542   \n",
       "\n",
       "                                                             std  \\\n",
       "FormalEducation                                                    \n",
       "Bachelor's degree                                   49826.543230   \n",
       "Doctoral degree                                     58006.888817   \n",
       "I did not complete any formal education past hi...  58101.777442   \n",
       "I prefer not to answer                              51406.827045   \n",
       "Master's degree                                     51273.555704   \n",
       "Professional degree                                 48256.978243   \n",
       "Some college/university study without earning a...  56839.728885   \n",
       "\n",
       "                                                             min         25%  \\\n",
       "FormalEducation                                                                \n",
       "Bachelor's degree                                       0.158813  12153.6696   \n",
       "Doctoral degree                                         2.797536  41853.9100   \n",
       "I did not complete any formal education past hi...     11.120000  27324.0000   \n",
       "I prefer not to answer                              36720.000000  52500.0000   \n",
       "Master's degree                                         0.060000  23430.0000   \n",
       "Professional degree                                    11.247250  17292.0000   \n",
       "Some college/university study without earning a...      4.454912  12339.8400   \n",
       "\n",
       "                                                         50%          75%  \\\n",
       "FormalEducation                                                             \n",
       "Bachelor's degree                                   40000.00   82375.0000   \n",
       "Doctoral degree                                     74258.90  120000.0000   \n",
       "I did not complete any formal education past hi...  45000.00   95666.0800   \n",
       "I prefer not to answer                              71853.91   88192.1675   \n",
       "Master's degree                                     53812.17   92000.0000   \n",
       "Professional degree                                 40000.00   84127.0500   \n",
       "Some college/university study without earning a...  40986.00  106000.0000   \n",
       "\n",
       "                                                         max  \n",
       "FormalEducation                                               \n",
       "Bachelor's degree                                   250000.0  \n",
       "Doctoral degree                                     299000.0  \n",
       "I did not complete any formal education past hi...  179373.9  \n",
       "I prefer not to answer                              180000.0  \n",
       "Master's degree                                     298956.5  \n",
       "Professional degree                                 230000.0  \n",
       "Some college/university study without earning a...  200000.0  "
      ]
     },
     "execution_count": 25,
     "metadata": {},
     "output_type": "execute_result"
    }
   ],
   "source": [
    "# YOUR CODE\n",
    "# делаем groupby по FormalEducation\n",
    "# вытаскиваем нужный столбец с зарплатой\n",
    "# вызываем describe\n",
    "data.groupby('FormalEducation').CompensationUSD.describe()"
   ]
  },
  {
   "cell_type": "markdown",
   "metadata": {},
   "source": [
    "Построим сводную горизонтальную столбчатую диаграмму, описывающую, какие языки используются на какой должности."
   ]
  },
  {
   "cell_type": "code",
   "execution_count": 26,
   "metadata": {
    "scrolled": false
   },
   "outputs": [
    {
     "data": {
      "text/plain": [
       "<matplotlib.axes._subplots.AxesSubplot at 0x22cd96d2388>"
      ]
     },
     "execution_count": 26,
     "metadata": {},
     "output_type": "execute_result"
    },
    {
     "data": {
      "image/png": "[encoded data removed]",
      "text/plain": [
       "<Figure size 1152x1152 with 1 Axes>"
      ]
     },
     "metadata": {
      "needs_background": "light"
     },
     "output_type": "display_data"
    }
   ],
   "source": [
    "pivoted_data = data[(data.CurrentJobTitleSelect != 'Other') & (data.LanguageRecommendationSelect != 'Other')].pivot_table(\n",
    "    # 1. здесь мог быть любой другой столбец, по нему просто считаются непустые ячейки\n",
    "    'CompensationUSD',\n",
    "    # 2. столбец для groupby\n",
    "    'CurrentJobTitleSelect',\n",
    "    # 3. столбец для groupby\n",
    "    'LanguageRecommendationSelect',\n",
    "    # хотим посчитать непустые ячейки в столбце 1,\n",
    "    # чтобы увидеть количество ответов для каждой комбинации значений столбцов 2 и 3\n",
    "    aggfunc='count'\n",
    ")\n",
    "pivoted_data.plot(kind='barh', stacked=True, figsize=(16, 16), logx=True, colormap='jet')"
   ]
  },
  {
   "cell_type": "markdown",
   "metadata": {},
   "source": [
    "## Sklearn fit-predict\n",
    "Давайте попробуем предсказывать для каждого человека его зарплату, обладая текущей информацией. Сначала надо подготовить данные."
   ]
  },
  {
   "cell_type": "code",
   "execution_count": 27,
   "metadata": {},
   "outputs": [
    {
     "data": {
      "text/plain": [
       "['Age',\n",
       " 'TimeGatheringData',\n",
       " 'TimeModelBuilding',\n",
       " 'TimeProduction',\n",
       " 'TimeVisualizing',\n",
       " 'TimeFindingInsights',\n",
       " 'TimeOtherSelect',\n",
       " 'JobSatisfaction',\n",
       " 'SkillsCount',\n",
       " 'MaleDummy',\n",
       " 'CompensationUSD']"
      ]
     },
     "execution_count": 27,
     "metadata": {},
     "output_type": "execute_result"
    }
   ],
   "source": [
    "numerical_columns"
   ]
  },
  {
   "cell_type": "code",
   "execution_count": 28,
   "metadata": {},
   "outputs": [],
   "source": [
    "categorical_columns = [\n",
    "    'Country',\n",
    "    'LanguageRecommendationSelect',\n",
    "    'FormalEducation',\n",
    "]\n",
    "feature_columns = categorical_columns + numerical_columns\n",
    "target_column = 'CompensationUSD'\n",
    "feature_columns = [col for col in feature_columns if col != target_column]"
   ]
  },
  {
   "cell_type": "code",
   "execution_count": 29,
   "metadata": {},
   "outputs": [
    {
     "data": {
      "text/plain": [
       "['Country',\n",
       " 'LanguageRecommendationSelect',\n",
       " 'FormalEducation',\n",
       " 'Age',\n",
       " 'TimeGatheringData',\n",
       " 'TimeModelBuilding',\n",
       " 'TimeProduction',\n",
       " 'TimeVisualizing',\n",
       " 'TimeFindingInsights',\n",
       " 'TimeOtherSelect',\n",
       " 'JobSatisfaction',\n",
       " 'SkillsCount',\n",
       " 'MaleDummy']"
      ]
     },
     "execution_count": 29,
     "metadata": {},
     "output_type": "execute_result"
    }
   ],
   "source": [
    "feature_columns"
   ]
  },
  {
   "cell_type": "code",
   "execution_count": 30,
   "metadata": {},
   "outputs": [
    {
     "data": {
      "text/plain": [
       "'CompensationUSD'"
      ]
     },
     "execution_count": 30,
     "metadata": {},
     "output_type": "execute_result"
    }
   ],
   "source": [
    "target_column"
   ]
  },
  {
   "cell_type": "markdown",
   "metadata": {},
   "source": [
    "Закодируем категориальные переменные с помощью OHE:"
   ]
  },
  {
   "cell_type": "code",
   "execution_count": 31,
   "metadata": {},
   "outputs": [
    {
     "data": {
      "text/html": [
       "<div>\n",
       "<style scoped>\n",
       "    .dataframe tbody tr th:only-of-type {\n",
       "        vertical-align: middle;\n",
       "    }\n",
       "\n",
       "    .dataframe tbody tr th {\n",
       "        vertical-align: top;\n",
       "    }\n",
       "\n",
       "    .dataframe thead th {\n",
       "        text-align: right;\n",
       "    }\n",
       "</style>\n",
       "<table border=\"1\" class=\"dataframe\">\n",
       "  <thead>\n",
       "    <tr style=\"text-align: right;\">\n",
       "      <th></th>\n",
       "      <th>Age</th>\n",
       "      <th>TimeGatheringData</th>\n",
       "      <th>TimeModelBuilding</th>\n",
       "      <th>TimeProduction</th>\n",
       "      <th>TimeVisualizing</th>\n",
       "      <th>TimeFindingInsights</th>\n",
       "      <th>TimeOtherSelect</th>\n",
       "      <th>JobSatisfaction</th>\n",
       "      <th>SkillsCount</th>\n",
       "      <th>MaleDummy</th>\n",
       "      <th>...</th>\n",
       "      <th>LanguageRecommendationSelect_SQL</th>\n",
       "      <th>LanguageRecommendationSelect_Scala</th>\n",
       "      <th>LanguageRecommendationSelect_Stata</th>\n",
       "      <th>FormalEducation_Bachelor's degree</th>\n",
       "      <th>FormalEducation_Doctoral degree</th>\n",
       "      <th>FormalEducation_I did not complete any formal education past high school</th>\n",
       "      <th>FormalEducation_I prefer not to answer</th>\n",
       "      <th>FormalEducation_Master's degree</th>\n",
       "      <th>FormalEducation_Professional degree</th>\n",
       "      <th>FormalEducation_Some college/university study without earning a bachelor's degree</th>\n",
       "    </tr>\n",
       "  </thead>\n",
       "  <tbody>\n",
       "    <tr>\n",
       "      <th>0</th>\n",
       "      <td>56.0</td>\n",
       "      <td>50.0</td>\n",
       "      <td>20.0</td>\n",
       "      <td>0.0</td>\n",
       "      <td>10.0</td>\n",
       "      <td>20.0</td>\n",
       "      <td>0.0</td>\n",
       "      <td>10.0</td>\n",
       "      <td>6</td>\n",
       "      <td>1</td>\n",
       "      <td>...</td>\n",
       "      <td>0</td>\n",
       "      <td>0</td>\n",
       "      <td>0</td>\n",
       "      <td>0</td>\n",
       "      <td>0</td>\n",
       "      <td>0</td>\n",
       "      <td>0</td>\n",
       "      <td>1</td>\n",
       "      <td>0</td>\n",
       "      <td>0</td>\n",
       "    </tr>\n",
       "    <tr>\n",
       "      <th>1</th>\n",
       "      <td>43.0</td>\n",
       "      <td>60.0</td>\n",
       "      <td>10.0</td>\n",
       "      <td>5.0</td>\n",
       "      <td>15.0</td>\n",
       "      <td>10.0</td>\n",
       "      <td>0.0</td>\n",
       "      <td>7.0</td>\n",
       "      <td>1</td>\n",
       "      <td>0</td>\n",
       "      <td>...</td>\n",
       "      <td>0</td>\n",
       "      <td>0</td>\n",
       "      <td>0</td>\n",
       "      <td>1</td>\n",
       "      <td>0</td>\n",
       "      <td>0</td>\n",
       "      <td>0</td>\n",
       "      <td>0</td>\n",
       "      <td>0</td>\n",
       "      <td>0</td>\n",
       "    </tr>\n",
       "    <tr>\n",
       "      <th>2</th>\n",
       "      <td>33.0</td>\n",
       "      <td>40.0</td>\n",
       "      <td>30.0</td>\n",
       "      <td>15.0</td>\n",
       "      <td>10.0</td>\n",
       "      <td>5.0</td>\n",
       "      <td>0.0</td>\n",
       "      <td>7.0</td>\n",
       "      <td>3</td>\n",
       "      <td>1</td>\n",
       "      <td>...</td>\n",
       "      <td>0</td>\n",
       "      <td>0</td>\n",
       "      <td>0</td>\n",
       "      <td>1</td>\n",
       "      <td>0</td>\n",
       "      <td>0</td>\n",
       "      <td>0</td>\n",
       "      <td>0</td>\n",
       "      <td>0</td>\n",
       "      <td>0</td>\n",
       "    </tr>\n",
       "    <tr>\n",
       "      <th>3</th>\n",
       "      <td>27.0</td>\n",
       "      <td>30.0</td>\n",
       "      <td>20.0</td>\n",
       "      <td>10.0</td>\n",
       "      <td>10.0</td>\n",
       "      <td>30.0</td>\n",
       "      <td>0.0</td>\n",
       "      <td>7.0</td>\n",
       "      <td>6</td>\n",
       "      <td>1</td>\n",
       "      <td>...</td>\n",
       "      <td>0</td>\n",
       "      <td>0</td>\n",
       "      <td>0</td>\n",
       "      <td>1</td>\n",
       "      <td>0</td>\n",
       "      <td>0</td>\n",
       "      <td>0</td>\n",
       "      <td>0</td>\n",
       "      <td>0</td>\n",
       "      <td>0</td>\n",
       "    </tr>\n",
       "    <tr>\n",
       "      <th>4</th>\n",
       "      <td>26.0</td>\n",
       "      <td>35.0</td>\n",
       "      <td>20.0</td>\n",
       "      <td>25.0</td>\n",
       "      <td>10.0</td>\n",
       "      <td>10.0</td>\n",
       "      <td>0.0</td>\n",
       "      <td>5.0</td>\n",
       "      <td>1</td>\n",
       "      <td>1</td>\n",
       "      <td>...</td>\n",
       "      <td>0</td>\n",
       "      <td>0</td>\n",
       "      <td>0</td>\n",
       "      <td>0</td>\n",
       "      <td>0</td>\n",
       "      <td>0</td>\n",
       "      <td>0</td>\n",
       "      <td>1</td>\n",
       "      <td>0</td>\n",
       "      <td>0</td>\n",
       "    </tr>\n",
       "  </tbody>\n",
       "</table>\n",
       "<p>5 rows × 70 columns</p>\n",
       "</div>"
      ],
      "text/plain": [
       "    Age  TimeGatheringData  TimeModelBuilding  TimeProduction  \\\n",
       "0  56.0               50.0               20.0             0.0   \n",
       "1  43.0               60.0               10.0             5.0   \n",
       "2  33.0               40.0               30.0            15.0   \n",
       "3  27.0               30.0               20.0            10.0   \n",
       "4  26.0               35.0               20.0            25.0   \n",
       "\n",
       "   TimeVisualizing  TimeFindingInsights  TimeOtherSelect  JobSatisfaction  \\\n",
       "0             10.0                 20.0              0.0             10.0   \n",
       "1             15.0                 10.0              0.0              7.0   \n",
       "2             10.0                  5.0              0.0              7.0   \n",
       "3             10.0                 30.0              0.0              7.0   \n",
       "4             10.0                 10.0              0.0              5.0   \n",
       "\n",
       "   SkillsCount  MaleDummy  ...  LanguageRecommendationSelect_SQL  \\\n",
       "0            6          1  ...                                 0   \n",
       "1            1          0  ...                                 0   \n",
       "2            3          1  ...                                 0   \n",
       "3            6          1  ...                                 0   \n",
       "4            1          1  ...                                 0   \n",
       "\n",
       "   LanguageRecommendationSelect_Scala  LanguageRecommendationSelect_Stata  \\\n",
       "0                                   0                                   0   \n",
       "1                                   0                                   0   \n",
       "2                                   0                                   0   \n",
       "3                                   0                                   0   \n",
       "4                                   0                                   0   \n",
       "\n",
       "   FormalEducation_Bachelor's degree  FormalEducation_Doctoral degree  \\\n",
       "0                                  0                                0   \n",
       "1                                  1                                0   \n",
       "2                                  1                                0   \n",
       "3                                  1                                0   \n",
       "4                                  0                                0   \n",
       "\n",
       "   FormalEducation_I did not complete any formal education past high school  \\\n",
       "0                                                  0                          \n",
       "1                                                  0                          \n",
       "2                                                  0                          \n",
       "3                                                  0                          \n",
       "4                                                  0                          \n",
       "\n",
       "   FormalEducation_I prefer not to answer  FormalEducation_Master's degree  \\\n",
       "0                                       0                                1   \n",
       "1                                       0                                0   \n",
       "2                                       0                                0   \n",
       "3                                       0                                0   \n",
       "4                                       0                                1   \n",
       "\n",
       "   FormalEducation_Professional degree  \\\n",
       "0                                    0   \n",
       "1                                    0   \n",
       "2                                    0   \n",
       "3                                    0   \n",
       "4                                    0   \n",
       "\n",
       "   FormalEducation_Some college/university study without earning a bachelor's degree  \n",
       "0                                                  0                                  \n",
       "1                                                  0                                  \n",
       "2                                                  0                                  \n",
       "3                                                  0                                  \n",
       "4                                                  0                                  \n",
       "\n",
       "[5 rows x 70 columns]"
      ]
     },
     "execution_count": 31,
     "metadata": {},
     "output_type": "execute_result"
    }
   ],
   "source": [
    "data_with_dummies = pd.get_dummies(data[feature_columns + [target_column]], columns=categorical_columns)\n",
    "data_with_dummies.head()"
   ]
  },
  {
   "cell_type": "markdown",
   "metadata": {},
   "source": [
    "Проведём нормализацию числовых признаков (и целевой переменной) с помощью преобразования\n",
    "$$\n",
    "X = \\frac{X - X_{min}}{X_{max} - X_{min}}\n",
    "$$"
   ]
  },
  {
   "cell_type": "code",
   "execution_count": 32,
   "metadata": {},
   "outputs": [],
   "source": [
    "scl = MinMaxScaler()\n",
    "\n",
    "data_with_dummies[numerical_columns] = scl.fit_transform(data_with_dummies[numerical_columns])"
   ]
  },
  {
   "cell_type": "code",
   "execution_count": 33,
   "metadata": {},
   "outputs": [
    {
     "data": {
      "text/plain": [
       "0       0.836120\n",
       "1       0.214665\n",
       "2       0.069841\n",
       "3       0.004963\n",
       "4       0.122523\n",
       "          ...   \n",
       "4367    0.219968\n",
       "4368    0.167224\n",
       "4369    0.335951\n",
       "4370    0.668896\n",
       "4372    0.033445\n",
       "Name: CompensationUSD, Length: 4119, dtype: float64"
      ]
     },
     "execution_count": 33,
     "metadata": {},
     "output_type": "execute_result"
    }
   ],
   "source": [
    "data_with_dummies.CompensationUSD"
   ]
  },
  {
   "cell_type": "markdown",
   "metadata": {},
   "source": [
    "Разобьём данные на train и test:"
   ]
  },
  {
   "cell_type": "code",
   "execution_count": 34,
   "metadata": {},
   "outputs": [],
   "source": [
    "X_train, X_test, y_train, y_test = train_test_split(data_with_dummies.drop(target_column, axis=1), data_with_dummies[target_column])"
   ]
  },
  {
   "cell_type": "code",
   "execution_count": 35,
   "metadata": {},
   "outputs": [
    {
     "data": {
      "text/plain": [
       "((3089, 69), (1030, 69))"
      ]
     },
     "execution_count": 35,
     "metadata": {},
     "output_type": "execute_result"
    }
   ],
   "source": [
    "X_train.shape, X_test.shape"
   ]
  },
  {
   "cell_type": "markdown",
   "metadata": {},
   "source": [
    "Обучите модель линейной регрессии, посчитайте MAE и MSE."
   ]
  },
  {
   "cell_type": "code",
   "execution_count": 36,
   "metadata": {},
   "outputs": [
    {
     "name": "stdout",
     "output_type": "stream",
     "text": [
      "0.0905890653966721\n",
      "0.13174051218439817\n"
     ]
    }
   ],
   "source": [
    "# YOUR CODE\n",
    "regr = Ridge()  # Linear regression + w**2 < 1\n",
    "\n",
    "regr.fit(X_train, y_train)\n",
    "\n",
    "pred = regr.predict(X_test)\n",
    "\n",
    "print(mean_absolute_error(y_test, pred))\n",
    "print(mean_squared_error(y_test, pred) ** 0.5)"
   ]
  },
  {
   "cell_type": "code",
   "execution_count": 37,
   "metadata": {},
   "outputs": [
    {
     "data": {
      "text/plain": [
       "21500.0"
      ]
     },
     "execution_count": 37,
     "metadata": {},
     "output_type": "execute_result"
    }
   ],
   "source": [
    "0.086 * 250000"
   ]
  },
  {
   "cell_type": "markdown",
   "metadata": {},
   "source": [
    "Постройте гистограмму ошибок между реальными тестовыми значениями и предсказанными. Какие ошибки модель совершает чаще: завышает или, наоборот, занижает з/п? Чтобы гистограмма была нагляднее, можно \"отрезать хвосты\": отобразить только ошибки, попадающие в промежуток между квантилями 0.01 и 0.99, например."
   ]
  },
  {
   "cell_type": "code",
   "execution_count": 38,
   "metadata": {},
   "outputs": [
    {
     "data": {
      "image/png": "[encoded data removed]",
      "text/plain": [
       "<Figure size 432x288 with 1 Axes>"
      ]
     },
     "metadata": {
      "needs_background": "light"
     },
     "output_type": "display_data"
    }
   ],
   "source": [
    "# YOUR CODE\n",
    "errors = pred - y_test\n",
    "plt.hist(errors);"
   ]
  },
  {
   "cell_type": "markdown",
   "metadata": {},
   "source": [
    "Выведем коэффициенты регрессии для числовых признаков:"
   ]
  },
  {
   "cell_type": "code",
   "execution_count": 39,
   "metadata": {},
   "outputs": [
    {
     "data": {
      "text/html": [
       "<div>\n",
       "<style scoped>\n",
       "    .dataframe tbody tr th:only-of-type {\n",
       "        vertical-align: middle;\n",
       "    }\n",
       "\n",
       "    .dataframe tbody tr th {\n",
       "        vertical-align: top;\n",
       "    }\n",
       "\n",
       "    .dataframe thead th {\n",
       "        text-align: right;\n",
       "    }\n",
       "</style>\n",
       "<table border=\"1\" class=\"dataframe\">\n",
       "  <thead>\n",
       "    <tr style=\"text-align: right;\">\n",
       "      <th></th>\n",
       "      <th>importance</th>\n",
       "    </tr>\n",
       "    <tr>\n",
       "      <th>feature</th>\n",
       "      <th></th>\n",
       "    </tr>\n",
       "  </thead>\n",
       "  <tbody>\n",
       "    <tr>\n",
       "      <th>Age</th>\n",
       "      <td>0.313467</td>\n",
       "    </tr>\n",
       "    <tr>\n",
       "      <th>Country_United States</th>\n",
       "      <td>0.184259</td>\n",
       "    </tr>\n",
       "    <tr>\n",
       "      <th>Country_Australia</th>\n",
       "      <td>0.157213</td>\n",
       "    </tr>\n",
       "    <tr>\n",
       "      <th>Country_Switzerland</th>\n",
       "      <td>0.145831</td>\n",
       "    </tr>\n",
       "    <tr>\n",
       "      <th>SkillsCount</th>\n",
       "      <td>0.133896</td>\n",
       "    </tr>\n",
       "    <tr>\n",
       "      <th>...</th>\n",
       "      <td>...</td>\n",
       "    </tr>\n",
       "    <tr>\n",
       "      <th>Country_Mexico</th>\n",
       "      <td>-0.081957</td>\n",
       "    </tr>\n",
       "    <tr>\n",
       "      <th>Country_Pakistan</th>\n",
       "      <td>-0.082770</td>\n",
       "    </tr>\n",
       "    <tr>\n",
       "      <th>Country_Colombia</th>\n",
       "      <td>-0.087162</td>\n",
       "    </tr>\n",
       "    <tr>\n",
       "      <th>Country_Iran</th>\n",
       "      <td>-0.096532</td>\n",
       "    </tr>\n",
       "    <tr>\n",
       "      <th>Country_Indonesia</th>\n",
       "      <td>-0.100524</td>\n",
       "    </tr>\n",
       "  </tbody>\n",
       "</table>\n",
       "<p>69 rows × 1 columns</p>\n",
       "</div>"
      ],
      "text/plain": [
       "                       importance\n",
       "feature                          \n",
       "Age                      0.313467\n",
       "Country_United States    0.184259\n",
       "Country_Australia        0.157213\n",
       "Country_Switzerland      0.145831\n",
       "SkillsCount              0.133896\n",
       "...                           ...\n",
       "Country_Mexico          -0.081957\n",
       "Country_Pakistan        -0.082770\n",
       "Country_Colombia        -0.087162\n",
       "Country_Iran            -0.096532\n",
       "Country_Indonesia       -0.100524\n",
       "\n",
       "[69 rows x 1 columns]"
      ]
     },
     "execution_count": 39,
     "metadata": {},
     "output_type": "execute_result"
    }
   ],
   "source": [
    "featureImportance = pd.DataFrame({\"feature\": list(X_train.columns),  \"importance\": regr.coef_})\n",
    "featureImportance.set_index('feature', inplace=True)\n",
    "featureImportance.sort_values([\"importance\"], ascending=False, inplace=True)\n",
    "featureImportance"
   ]
  },
  {
   "cell_type": "code",
   "execution_count": 40,
   "metadata": {},
   "outputs": [
    {
     "data": {
      "text/html": [
       "<div>\n",
       "<style scoped>\n",
       "    .dataframe tbody tr th:only-of-type {\n",
       "        vertical-align: middle;\n",
       "    }\n",
       "\n",
       "    .dataframe tbody tr th {\n",
       "        vertical-align: top;\n",
       "    }\n",
       "\n",
       "    .dataframe thead th {\n",
       "        text-align: right;\n",
       "    }\n",
       "</style>\n",
       "<table border=\"1\" class=\"dataframe\">\n",
       "  <thead>\n",
       "    <tr style=\"text-align: right;\">\n",
       "      <th></th>\n",
       "      <th>importance</th>\n",
       "    </tr>\n",
       "    <tr>\n",
       "      <th>feature</th>\n",
       "      <th></th>\n",
       "    </tr>\n",
       "  </thead>\n",
       "  <tbody>\n",
       "    <tr>\n",
       "      <th>Age</th>\n",
       "      <td>0.313467</td>\n",
       "    </tr>\n",
       "    <tr>\n",
       "      <th>Country_United States</th>\n",
       "      <td>0.184259</td>\n",
       "    </tr>\n",
       "    <tr>\n",
       "      <th>Country_Australia</th>\n",
       "      <td>0.157213</td>\n",
       "    </tr>\n",
       "    <tr>\n",
       "      <th>Country_Switzerland</th>\n",
       "      <td>0.145831</td>\n",
       "    </tr>\n",
       "    <tr>\n",
       "      <th>SkillsCount</th>\n",
       "      <td>0.133896</td>\n",
       "    </tr>\n",
       "    <tr>\n",
       "      <th>Country_Israel</th>\n",
       "      <td>0.100531</td>\n",
       "    </tr>\n",
       "    <tr>\n",
       "      <th>Country_Denmark</th>\n",
       "      <td>0.094340</td>\n",
       "    </tr>\n",
       "    <tr>\n",
       "      <th>Country_Ireland</th>\n",
       "      <td>0.079712</td>\n",
       "    </tr>\n",
       "    <tr>\n",
       "      <th>Country_Netherlands</th>\n",
       "      <td>0.072024</td>\n",
       "    </tr>\n",
       "    <tr>\n",
       "      <th>Country_United Kingdom</th>\n",
       "      <td>0.068260</td>\n",
       "    </tr>\n",
       "    <tr>\n",
       "      <th>Country_Singapore</th>\n",
       "      <td>0.067546</td>\n",
       "    </tr>\n",
       "    <tr>\n",
       "      <th>Country_Canada</th>\n",
       "      <td>0.067084</td>\n",
       "    </tr>\n",
       "    <tr>\n",
       "      <th>Country_Germany</th>\n",
       "      <td>0.065272</td>\n",
       "    </tr>\n",
       "    <tr>\n",
       "      <th>TimeProduction</th>\n",
       "      <td>0.060098</td>\n",
       "    </tr>\n",
       "    <tr>\n",
       "      <th>JobSatisfaction</th>\n",
       "      <td>0.055018</td>\n",
       "    </tr>\n",
       "    <tr>\n",
       "      <th>LanguageRecommendationSelect_Java</th>\n",
       "      <td>0.049963</td>\n",
       "    </tr>\n",
       "    <tr>\n",
       "      <th>Country_Belgium</th>\n",
       "      <td>0.049614</td>\n",
       "    </tr>\n",
       "    <tr>\n",
       "      <th>LanguageRecommendationSelect_SQL</th>\n",
       "      <td>0.044675</td>\n",
       "    </tr>\n",
       "    <tr>\n",
       "      <th>LanguageRecommendationSelect_Haskell</th>\n",
       "      <td>0.041682</td>\n",
       "    </tr>\n",
       "    <tr>\n",
       "      <th>LanguageRecommendationSelect_Python</th>\n",
       "      <td>0.035748</td>\n",
       "    </tr>\n",
       "  </tbody>\n",
       "</table>\n",
       "</div>"
      ],
      "text/plain": [
       "                                      importance\n",
       "feature                                         \n",
       "Age                                     0.313467\n",
       "Country_United States                   0.184259\n",
       "Country_Australia                       0.157213\n",
       "Country_Switzerland                     0.145831\n",
       "SkillsCount                             0.133896\n",
       "Country_Israel                          0.100531\n",
       "Country_Denmark                         0.094340\n",
       "Country_Ireland                         0.079712\n",
       "Country_Netherlands                     0.072024\n",
       "Country_United Kingdom                  0.068260\n",
       "Country_Singapore                       0.067546\n",
       "Country_Canada                          0.067084\n",
       "Country_Germany                         0.065272\n",
       "TimeProduction                          0.060098\n",
       "JobSatisfaction                         0.055018\n",
       "LanguageRecommendationSelect_Java       0.049963\n",
       "Country_Belgium                         0.049614\n",
       "LanguageRecommendationSelect_SQL        0.044675\n",
       "LanguageRecommendationSelect_Haskell    0.041682\n",
       "LanguageRecommendationSelect_Python     0.035748"
      ]
     },
     "execution_count": 40,
     "metadata": {},
     "output_type": "execute_result"
    }
   ],
   "source": [
    "featureImportance.head(20)"
   ]
  },
  {
   "cell_type": "code",
   "execution_count": 41,
   "metadata": {},
   "outputs": [
    {
     "data": {
      "text/html": [
       "<div>\n",
       "<style scoped>\n",
       "    .dataframe tbody tr th:only-of-type {\n",
       "        vertical-align: middle;\n",
       "    }\n",
       "\n",
       "    .dataframe tbody tr th {\n",
       "        vertical-align: top;\n",
       "    }\n",
       "\n",
       "    .dataframe thead th {\n",
       "        text-align: right;\n",
       "    }\n",
       "</style>\n",
       "<table border=\"1\" class=\"dataframe\">\n",
       "  <thead>\n",
       "    <tr style=\"text-align: right;\">\n",
       "      <th></th>\n",
       "      <th>importance</th>\n",
       "    </tr>\n",
       "    <tr>\n",
       "      <th>feature</th>\n",
       "      <th></th>\n",
       "    </tr>\n",
       "  </thead>\n",
       "  <tbody>\n",
       "    <tr>\n",
       "      <th>Country_Czech Republic</th>\n",
       "      <td>-0.038486</td>\n",
       "    </tr>\n",
       "    <tr>\n",
       "      <th>Country_Taiwan</th>\n",
       "      <td>-0.038813</td>\n",
       "    </tr>\n",
       "    <tr>\n",
       "      <th>Country_Argentina</th>\n",
       "      <td>-0.043991</td>\n",
       "    </tr>\n",
       "    <tr>\n",
       "      <th>Country_Greece</th>\n",
       "      <td>-0.049111</td>\n",
       "    </tr>\n",
       "    <tr>\n",
       "      <th>Country_Brazil</th>\n",
       "      <td>-0.049159</td>\n",
       "    </tr>\n",
       "    <tr>\n",
       "      <th>LanguageRecommendationSelect_Stata</th>\n",
       "      <td>-0.051961</td>\n",
       "    </tr>\n",
       "    <tr>\n",
       "      <th>Country_Chile</th>\n",
       "      <td>-0.054609</td>\n",
       "    </tr>\n",
       "    <tr>\n",
       "      <th>Country_Turkey</th>\n",
       "      <td>-0.057678</td>\n",
       "    </tr>\n",
       "    <tr>\n",
       "      <th>Country_Poland</th>\n",
       "      <td>-0.063222</td>\n",
       "    </tr>\n",
       "    <tr>\n",
       "      <th>Country_India</th>\n",
       "      <td>-0.063476</td>\n",
       "    </tr>\n",
       "    <tr>\n",
       "      <th>Country_Russia</th>\n",
       "      <td>-0.066627</td>\n",
       "    </tr>\n",
       "    <tr>\n",
       "      <th>TimeVisualizing</th>\n",
       "      <td>-0.066741</td>\n",
       "    </tr>\n",
       "    <tr>\n",
       "      <th>TimeModelBuilding</th>\n",
       "      <td>-0.074096</td>\n",
       "    </tr>\n",
       "    <tr>\n",
       "      <th>Country_Portugal</th>\n",
       "      <td>-0.079690</td>\n",
       "    </tr>\n",
       "    <tr>\n",
       "      <th>Country_Philippines</th>\n",
       "      <td>-0.081914</td>\n",
       "    </tr>\n",
       "    <tr>\n",
       "      <th>Country_Mexico</th>\n",
       "      <td>-0.081957</td>\n",
       "    </tr>\n",
       "    <tr>\n",
       "      <th>Country_Pakistan</th>\n",
       "      <td>-0.082770</td>\n",
       "    </tr>\n",
       "    <tr>\n",
       "      <th>Country_Colombia</th>\n",
       "      <td>-0.087162</td>\n",
       "    </tr>\n",
       "    <tr>\n",
       "      <th>Country_Iran</th>\n",
       "      <td>-0.096532</td>\n",
       "    </tr>\n",
       "    <tr>\n",
       "      <th>Country_Indonesia</th>\n",
       "      <td>-0.100524</td>\n",
       "    </tr>\n",
       "  </tbody>\n",
       "</table>\n",
       "</div>"
      ],
      "text/plain": [
       "                                    importance\n",
       "feature                                       \n",
       "Country_Czech Republic               -0.038486\n",
       "Country_Taiwan                       -0.038813\n",
       "Country_Argentina                    -0.043991\n",
       "Country_Greece                       -0.049111\n",
       "Country_Brazil                       -0.049159\n",
       "LanguageRecommendationSelect_Stata   -0.051961\n",
       "Country_Chile                        -0.054609\n",
       "Country_Turkey                       -0.057678\n",
       "Country_Poland                       -0.063222\n",
       "Country_India                        -0.063476\n",
       "Country_Russia                       -0.066627\n",
       "TimeVisualizing                      -0.066741\n",
       "TimeModelBuilding                    -0.074096\n",
       "Country_Portugal                     -0.079690\n",
       "Country_Philippines                  -0.081914\n",
       "Country_Mexico                       -0.081957\n",
       "Country_Pakistan                     -0.082770\n",
       "Country_Colombia                     -0.087162\n",
       "Country_Iran                         -0.096532\n",
       "Country_Indonesia                    -0.100524"
      ]
     },
     "execution_count": 41,
     "metadata": {},
     "output_type": "execute_result"
    }
   ],
   "source": [
    "featureImportance.tail(20)"
   ]
  },
  {
   "cell_type": "markdown",
   "metadata": {},
   "source": [
    "## Проверка гипотез\n",
    "Проверим гипотезу, что для разных должностей зарплаты в среднем одинаковые.\n",
    "\n",
    "Псостроим боксплот по зарплате `CompensationUSD` для каждой должности:"
   ]
  },
  {
   "cell_type": "code",
   "execution_count": 42,
   "metadata": {},
   "outputs": [
    {
     "data": {
      "image/png": "[encoded data removed]",
      "text/plain": [
       "<Figure size 1152x288 with 1 Axes>"
      ]
     },
     "metadata": {
      "needs_background": "light"
     },
     "output_type": "display_data"
    }
   ],
   "source": [
    "plt.figure(figsize=(16, 4))\n",
    "ax = sns.boxplot('CurrentJobTitleSelect', 'CompensationUSD', data=data[data.CurrentJobTitleSelect != 'Other'], showfliers=False)\n",
    "ax.set_xticklabels(ax.get_xticklabels(), rotation=90);"
   ]
  },
  {
   "cell_type": "markdown",
   "metadata": {},
   "source": [
    "Выглядит так, будто у `Operations Research Practitioner` зарплата в среднем выше, чем у `Data Scientist`. Проверим, значима ли эта разница. Выведем среднее значение для обеих должностей:"
   ]
  },
  {
   "cell_type": "code",
   "execution_count": 43,
   "metadata": {},
   "outputs": [
    {
     "name": "stdout",
     "output_type": "stream",
     "text": [
      "Mean wage for Operations Research Practitioner 102924.89111111111\n",
      "Mean wage for Data Scientist 80458.01167227472\n"
     ]
    }
   ],
   "source": [
    "title_0 = 'Operations Research Practitioner'\n",
    "title_1 = 'Data Scientist'\n",
    "\n",
    "print('Mean wage for', title_0, data[data.CurrentJobTitleSelect == title_0].CompensationUSD.mean())\n",
    "print('Mean wage for', title_1, data[data.CurrentJobTitleSelect == title_1].CompensationUSD.mean())"
   ]
  },
  {
   "cell_type": "markdown",
   "metadata": {},
   "source": [
    "Будем проверять гипотезу $H_0: \\mu_{DS} = 102924$. Т.е. предполагаем, что \"настоящая\" средняя з/п у датасайентистов 102924 и хотим проверить, насколько это предположение разумно, обладая нашей выборкой зарплат."
   ]
  },
  {
   "cell_type": "code",
   "execution_count": 44,
   "metadata": {},
   "outputs": [],
   "source": [
    "mu = data[data.CurrentJobTitleSelect == title_0].CompensationUSD.mean()\n",
    "\n",
    "data_1 = data[data.CurrentJobTitleSelect == title_1]\n",
    "mean = data_1.CompensationUSD.mean()\n",
    "std = data_1.CompensationUSD.std()\n",
    "n = len(data_1)"
   ]
  },
  {
   "cell_type": "markdown",
   "metadata": {},
   "source": [
    "Нормальный интервал (попадает ли 0? если да, гипотеза не отвергается):"
   ]
  },
  {
   "cell_type": "code",
   "execution_count": 45,
   "metadata": {},
   "outputs": [
    {
     "data": {
      "text/plain": [
       "(-25636.757717947607, -19297.001159725172)"
      ]
     },
     "execution_count": 45,
     "metadata": {},
     "output_type": "execute_result"
    }
   ],
   "source": [
    "_zconfint_generic(mean - mu,  std / np.sqrt(n), 0.05, 'two-sided')"
   ]
  },
  {
   "cell_type": "markdown",
   "metadata": {},
   "source": [
    "T-тест (если p-value больше 0.05, наша гипотеза вполне может быть правдой, т.е. не отвергается):"
   ]
  },
  {
   "cell_type": "code",
   "execution_count": 46,
   "metadata": {},
   "outputs": [
    {
     "data": {
      "text/plain": [
       "(-13.891471743662454, 7.135393749872034e-44)"
      ]
     },
     "execution_count": 46,
     "metadata": {},
     "output_type": "execute_result"
    }
   ],
   "source": [
    "ztest(data_1.CompensationUSD, value=mu)"
   ]
  },
  {
   "cell_type": "markdown",
   "metadata": {},
   "source": [
    "Теперь можно поменять выше названия должностей и проверить то же самое для других, например, `Computer Scientist` и `Programmer`.\n",
    "\n",
    "Сравнение зарплат для мужчин и женщин:"
   ]
  },
  {
   "cell_type": "code",
   "execution_count": 47,
   "metadata": {},
   "outputs": [
    {
     "data": {
      "text/plain": [
       "1.0    3522\n",
       "0.0     597\n",
       "Name: MaleDummy, dtype: int64"
      ]
     },
     "execution_count": 47,
     "metadata": {},
     "output_type": "execute_result"
    }
   ],
   "source": [
    "data_with_dummies.MaleDummy.value_counts()"
   ]
  },
  {
   "cell_type": "code",
   "execution_count": 48,
   "metadata": {},
   "outputs": [
    {
     "data": {
      "text/plain": [
       "<matplotlib.axes._subplots.AxesSubplot at 0x22cdbb0be08>"
      ]
     },
     "execution_count": 48,
     "metadata": {},
     "output_type": "execute_result"
    },
    {
     "data": {
      "image/png": "[encoded data removed]",
      "text/plain": [
       "<Figure size 432x288 with 1 Axes>"
      ]
     },
     "metadata": {
      "needs_background": "light"
     },
     "output_type": "display_data"
    }
   ],
   "source": [
    "sns.boxplot('MaleDummy', 'CompensationUSD', data=data, showfliers=False)"
   ]
  },
  {
   "cell_type": "code",
   "execution_count": 49,
   "metadata": {},
   "outputs": [
    {
     "name": "stdout",
     "output_type": "stream",
     "text": [
      "Mean wage for 0 62451.800509557754\n",
      "Mean wage for 1 66129.7156746999\n"
     ]
    }
   ],
   "source": [
    "title_0 = 0\n",
    "title_1 = 1\n",
    "\n",
    "print('Mean wage for', title_0, data[data.MaleDummy == title_0].CompensationUSD.mean())\n",
    "print('Mean wage for', title_1, data[data.MaleDummy == title_1].CompensationUSD.mean())"
   ]
  },
  {
   "cell_type": "code",
   "execution_count": 50,
   "metadata": {},
   "outputs": [],
   "source": [
    "mu = data[data.MaleDummy == title_0].CompensationUSD.mean()\n",
    "\n",
    "data_1 = data[data.MaleDummy == title_1]\n",
    "mean = data_1.CompensationUSD.mean()\n",
    "std = data_1.CompensationUSD.std()\n",
    "n = len(data_1)"
   ]
  },
  {
   "cell_type": "code",
   "execution_count": 51,
   "metadata": {},
   "outputs": [
    {
     "data": {
      "text/plain": [
       "(62451.800509557754, 66129.7156746999)"
      ]
     },
     "execution_count": 51,
     "metadata": {},
     "output_type": "execute_result"
    }
   ],
   "source": [
    "mu, mean"
   ]
  },
  {
   "cell_type": "markdown",
   "metadata": {},
   "source": [
    "Нормальный интервал (попадает ли 0? если да, гипотеза не отвергается):"
   ]
  },
  {
   "cell_type": "code",
   "execution_count": 52,
   "metadata": {},
   "outputs": [
    {
     "data": {
      "text/plain": [
       "(1896.7348772790172, 5459.095453005266)"
      ]
     },
     "execution_count": 52,
     "metadata": {},
     "output_type": "execute_result"
    }
   ],
   "source": [
    "_zconfint_generic(mean - mu,  std / np.sqrt(n), 0.05, 'two-sided')"
   ]
  },
  {
   "cell_type": "markdown",
   "metadata": {},
   "source": [
    "T-тест (если p-value больше 0.05, наша гипотеза вполне может быть правдой, т.е. не отвергается):"
   ]
  },
  {
   "cell_type": "code",
   "execution_count": 53,
   "metadata": {},
   "outputs": [
    {
     "data": {
      "text/plain": [
       "(4.047081202835656, 5.186025436157575e-05)"
      ]
     },
     "execution_count": 53,
     "metadata": {},
     "output_type": "execute_result"
    }
   ],
   "source": [
    "ztest(data_1.CompensationUSD, value=mu)"
   ]
  }
 ],
 "metadata": {
  "kernelspec": {
   "display_name": "Python 3",
   "language": "python",
   "name": "python3"
  },
  "language_info": {
   "codemirror_mode": {
    "name": "ipython",
    "version": 3
   },
   "file_extension": ".py",
   "mimetype": "text/x-python",
   "name": "python",
   "nbconvert_exporter": "python",
   "pygments_lexer": "ipython3",
   "version": "3.7.6"
  }
 },
 "nbformat": 4,
 "nbformat_minor": 4
}
