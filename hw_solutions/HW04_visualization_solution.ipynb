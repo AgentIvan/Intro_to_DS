{
 "cells": [
  {
   "cell_type": "markdown",
   "metadata": {},
   "source": [
    "<img align=\"center\" src=\"https://raw.githubusercontent.com/FUlyankin/Parsers/master/images%20/cats.jpg\" height=\"1200\" width=\"1200\"> \n",
    "\n",
    "# Домашка №4: визуализация\n",
    "\n",
    "У всех нас есть датасет по контакту. В нём лежит информация про всех нас. Эту информацию надо как следует проанализировать. Именно этим мы сейчас продолжим заниматься. В этот раз с картинками! \n",
    "\n",
    "Для начала подгрузите все необходимые библиотеки: `pandas`, `matplotlib.pyplot`, `seaborn` и включите опцию, отвечающую за прорисовку картинок прямо в питонячей тетрадке."
   ]
  },
  {
   "cell_type": "code",
   "execution_count": 1,
   "metadata": {},
   "outputs": [],
   "source": [
    "import pandas as pd\n",
    "\n",
    "import matplotlib.pyplot as plt\n",
    "import seaborn as sns\n",
    "%matplotlib inline"
   ]
  },
  {
   "cell_type": "markdown",
   "metadata": {},
   "source": [
    "Подгрузите данные профилей и данные по фотографиям"
   ]
  },
  {
   "cell_type": "code",
   "execution_count": 2,
   "metadata": {},
   "outputs": [],
   "source": [
    "# В этой табличке лежат данные по профилю человека\n",
    "df_profile = pd.read_csv('../data/vk_download/vk_data_profile.csv',sep='\\t')\n",
    "\n",
    "# В этой табличке лежат данные по фотографиям человека\n",
    "df_photo = pd.read_csv('../data/vk_download/vk_data_photo.csv',sep='\\t')"
   ]
  },
  {
   "cell_type": "markdown",
   "metadata": {},
   "source": [
    "Склеим табличку по полю uid"
   ]
  },
  {
   "cell_type": "code",
   "execution_count": 3,
   "metadata": {},
   "outputs": [
    {
     "data": {
      "text/html": [
       "<div>\n",
       "<style scoped>\n",
       "    .dataframe tbody tr th:only-of-type {\n",
       "        vertical-align: middle;\n",
       "    }\n",
       "\n",
       "    .dataframe tbody tr th {\n",
       "        vertical-align: top;\n",
       "    }\n",
       "\n",
       "    .dataframe thead th {\n",
       "        text-align: right;\n",
       "    }\n",
       "</style>\n",
       "<table border=\"1\" class=\"dataframe\">\n",
       "  <thead>\n",
       "    <tr style=\"text-align: right;\">\n",
       "      <th></th>\n",
       "      <th>Unnamed: 0_x</th>\n",
       "      <th>uid</th>\n",
       "      <th>Unnamed: 0.1</th>\n",
       "      <th>first_name</th>\n",
       "      <th>last_name</th>\n",
       "      <th>is_closed</th>\n",
       "      <th>city</th>\n",
       "      <th>home_town</th>\n",
       "      <th>male_dummy</th>\n",
       "      <th>relation_cat</th>\n",
       "      <th>...</th>\n",
       "      <th>photo_repost_cnt</th>\n",
       "      <th>photo_repost_max</th>\n",
       "      <th>photo_repost_mean</th>\n",
       "      <th>photo_repost_median</th>\n",
       "      <th>photo_text</th>\n",
       "      <th>photo_text_len_cnt</th>\n",
       "      <th>photo_yer_mean</th>\n",
       "      <th>vk_photo_ava_change_cnt</th>\n",
       "      <th>vk_photo_text_url_len_cnt</th>\n",
       "      <th>vk_photo_wall_ph_post_cnt</th>\n",
       "    </tr>\n",
       "  </thead>\n",
       "  <tbody>\n",
       "    <tr>\n",
       "      <th>0</th>\n",
       "      <td>0</td>\n",
       "      <td>182152789</td>\n",
       "      <td>0</td>\n",
       "      <td>Александра</td>\n",
       "      <td>Абашкова</td>\n",
       "      <td>False</td>\n",
       "      <td>Москва</td>\n",
       "      <td>Москва</td>\n",
       "      <td>0</td>\n",
       "      <td>не указано</td>\n",
       "      <td>...</td>\n",
       "      <td>0.0</td>\n",
       "      <td>0.0</td>\n",
       "      <td>0.000000</td>\n",
       "      <td>0.0</td>\n",
       "      <td></td>\n",
       "      <td>0.0</td>\n",
       "      <td>1.333333</td>\n",
       "      <td>0.0</td>\n",
       "      <td>0.0</td>\n",
       "      <td>0.0</td>\n",
       "    </tr>\n",
       "    <tr>\n",
       "      <th>1</th>\n",
       "      <td>1</td>\n",
       "      <td>148020433</td>\n",
       "      <td>1</td>\n",
       "      <td>Анастасия</td>\n",
       "      <td>Чуфистова</td>\n",
       "      <td>False</td>\n",
       "      <td>Рязань</td>\n",
       "      <td>Рязань</td>\n",
       "      <td>0</td>\n",
       "      <td>не указано</td>\n",
       "      <td>...</td>\n",
       "      <td>2.0</td>\n",
       "      <td>1.0</td>\n",
       "      <td>0.105263</td>\n",
       "      <td>0.0</td>\n",
       "      <td></td>\n",
       "      <td>0.0</td>\n",
       "      <td>3.166667</td>\n",
       "      <td>0.0</td>\n",
       "      <td>0.0</td>\n",
       "      <td>0.0</td>\n",
       "    </tr>\n",
       "    <tr>\n",
       "      <th>2</th>\n",
       "      <td>2</td>\n",
       "      <td>138413935</td>\n",
       "      <td>2</td>\n",
       "      <td>Александр</td>\n",
       "      <td>Головачев</td>\n",
       "      <td>False</td>\n",
       "      <td>Москва</td>\n",
       "      <td>Омск</td>\n",
       "      <td>1</td>\n",
       "      <td>не женат/не замужем</td>\n",
       "      <td>...</td>\n",
       "      <td>0.0</td>\n",
       "      <td>0.0</td>\n",
       "      <td>0.000000</td>\n",
       "      <td>0.0</td>\n",
       "      <td></td>\n",
       "      <td>0.0</td>\n",
       "      <td>2.333333</td>\n",
       "      <td>0.0</td>\n",
       "      <td>0.0</td>\n",
       "      <td>0.0</td>\n",
       "    </tr>\n",
       "    <tr>\n",
       "      <th>3</th>\n",
       "      <td>3</td>\n",
       "      <td>366261055</td>\n",
       "      <td>3</td>\n",
       "      <td>Анна</td>\n",
       "      <td>Лобанова</td>\n",
       "      <td>False</td>\n",
       "      <td>NaN</td>\n",
       "      <td>NaN</td>\n",
       "      <td>0</td>\n",
       "      <td>не указано</td>\n",
       "      <td>...</td>\n",
       "      <td>0.0</td>\n",
       "      <td>0.0</td>\n",
       "      <td>0.000000</td>\n",
       "      <td>0.0</td>\n",
       "      <td></td>\n",
       "      <td>0.0</td>\n",
       "      <td>12.500000</td>\n",
       "      <td>0.0</td>\n",
       "      <td>0.0</td>\n",
       "      <td>0.0</td>\n",
       "    </tr>\n",
       "    <tr>\n",
       "      <th>4</th>\n",
       "      <td>4</td>\n",
       "      <td>111252392</td>\n",
       "      <td>4</td>\n",
       "      <td>Алексей</td>\n",
       "      <td>Пузырный</td>\n",
       "      <td>False</td>\n",
       "      <td>NaN</td>\n",
       "      <td>NaN</td>\n",
       "      <td>1</td>\n",
       "      <td>NaN</td>\n",
       "      <td>...</td>\n",
       "      <td>0.0</td>\n",
       "      <td>0.0</td>\n",
       "      <td>0.000000</td>\n",
       "      <td>0.0</td>\n",
       "      <td></td>\n",
       "      <td>0.0</td>\n",
       "      <td>8.750000</td>\n",
       "      <td>0.0</td>\n",
       "      <td>0.0</td>\n",
       "      <td>0.0</td>\n",
       "    </tr>\n",
       "  </tbody>\n",
       "</table>\n",
       "<p>5 rows × 85 columns</p>\n",
       "</div>"
      ],
      "text/plain": [
       "   Unnamed: 0_x        uid  Unnamed: 0.1  first_name  last_name  is_closed  \\\n",
       "0             0  182152789             0  Александра   Абашкова      False   \n",
       "1             1  148020433             1   Анастасия  Чуфистова      False   \n",
       "2             2  138413935             2   Александр  Головачев      False   \n",
       "3             3  366261055             3        Анна   Лобанова      False   \n",
       "4             4  111252392             4     Алексей   Пузырный      False   \n",
       "\n",
       "     city home_town  male_dummy         relation_cat  ... photo_repost_cnt  \\\n",
       "0  Москва    Москва           0           не указано  ...              0.0   \n",
       "1  Рязань    Рязань           0           не указано  ...              2.0   \n",
       "2  Москва      Омск           1  не женат/не замужем  ...              0.0   \n",
       "3     NaN       NaN           0           не указано  ...              0.0   \n",
       "4     NaN       NaN           1                  NaN  ...              0.0   \n",
       "\n",
       "   photo_repost_max  photo_repost_mean  photo_repost_median  \\\n",
       "0               0.0           0.000000                  0.0   \n",
       "1               1.0           0.105263                  0.0   \n",
       "2               0.0           0.000000                  0.0   \n",
       "3               0.0           0.000000                  0.0   \n",
       "4               0.0           0.000000                  0.0   \n",
       "\n",
       "                                          photo_text  photo_text_len_cnt  \\\n",
       "0                                                                    0.0   \n",
       "1                                                                    0.0   \n",
       "2                                                                    0.0   \n",
       "3                                                                    0.0   \n",
       "4                                                                    0.0   \n",
       "\n",
       "   photo_yer_mean  vk_photo_ava_change_cnt  vk_photo_text_url_len_cnt  \\\n",
       "0        1.333333                      0.0                        0.0   \n",
       "1        3.166667                      0.0                        0.0   \n",
       "2        2.333333                      0.0                        0.0   \n",
       "3       12.500000                      0.0                        0.0   \n",
       "4        8.750000                      0.0                        0.0   \n",
       "\n",
       "   vk_photo_wall_ph_post_cnt  \n",
       "0                        0.0  \n",
       "1                        0.0  \n",
       "2                        0.0  \n",
       "3                        0.0  \n",
       "4                        0.0  \n",
       "\n",
       "[5 rows x 85 columns]"
      ]
     },
     "execution_count": 3,
     "metadata": {},
     "output_type": "execute_result"
    }
   ],
   "source": [
    "df = pd.merge(df_profile, df_photo, how='right', on='uid')\n",
    "df.head()"
   ]
  },
  {
   "cell_type": "markdown",
   "metadata": {},
   "source": [
    "Давайте посмотрим на все названия колонок, которые есть в таблице. "
   ]
  },
  {
   "cell_type": "code",
   "execution_count": 4,
   "metadata": {},
   "outputs": [
    {
     "data": {
      "text/plain": [
       "Index(['Unnamed: 0_x', 'uid', 'Unnamed: 0.1', 'first_name', 'last_name',\n",
       "       'is_closed', 'city', 'home_town', 'male_dummy', 'relation_cat',\n",
       "       'relation_partner', 'byear', 'bmonth', 'bday', 'country',\n",
       "       'facebook_dummy', 'instagram_dummy', 'skype_dummy', 'twitter_dummy',\n",
       "       'home_phone_dummy', 'mobile_phone_dummy', 'site_dummy', 'folowers_cnt',\n",
       "       'university_str', 'faculty_str', 'about_str', 'activities_str',\n",
       "       'books_str', 'interests_str', 'movies_str', 'music_str', 'quotes_str',\n",
       "       'tv_str', 'games_str', 'can_post_dummy', 'can_see_all_posts_dummy',\n",
       "       'can_see_audio_dummy', 'can_write_private_message_dummy',\n",
       "       'has_mobile_dummy', 'has_ava_dummy', 'wall_comments_dummy',\n",
       "       'albums_cnt', 'audio_cnt', 'followers_cnt', 'friends_cnt', 'gifts_cnt',\n",
       "       'groups_cnt', 'mutual_friends_cnt', 'photos_cnt', 'subscriptions_cnt',\n",
       "       'user_photos_cnt', 'videos_cnt', 'pages_cnt', 'alco_love_cat',\n",
       "       'smoke_love_cat', 'religion_str', 'inspired_by_str', 'life_main_cat',\n",
       "       'people_main_cat', 'political_cat', 'lang_cnt', 'english_dummy',\n",
       "       'change_city_school_cnt', 'last_bukva_class_str', 'schools_cnt',\n",
       "       'is_bmm', 'in_hse_memes_group', 'likes_memes', 'Unnamed: 0_y',\n",
       "       'photo_cnt', 'photo_like_cnt', 'photo_like_max', 'photo_like_mean',\n",
       "       'photo_like_median', 'photo_month_mean', 'photo_repost_cnt',\n",
       "       'photo_repost_max', 'photo_repost_mean', 'photo_repost_median',\n",
       "       'photo_text', 'photo_text_len_cnt', 'photo_yer_mean',\n",
       "       'vk_photo_ava_change_cnt', 'vk_photo_text_url_len_cnt',\n",
       "       'vk_photo_wall_ph_post_cnt'],\n",
       "      dtype='object')"
      ]
     },
     "execution_count": 4,
     "metadata": {},
     "output_type": "execute_result"
    }
   ],
   "source": [
    "df.columns"
   ]
  },
  {
   "cell_type": "markdown",
   "metadata": {},
   "source": [
    "Мы видим, что часть из них кончается на `cnt`. Это колонки-счётчики. В них лежат такие переменные как количество фоток, лайков, репостов и тд"
   ]
  },
  {
   "cell_type": "code",
   "execution_count": 5,
   "metadata": {},
   "outputs": [
    {
     "data": {
      "text/plain": [
       "['folowers_cnt',\n",
       " 'albums_cnt',\n",
       " 'audio_cnt',\n",
       " 'followers_cnt',\n",
       " 'friends_cnt',\n",
       " 'gifts_cnt',\n",
       " 'groups_cnt',\n",
       " 'mutual_friends_cnt',\n",
       " 'photos_cnt',\n",
       " 'subscriptions_cnt',\n",
       " 'user_photos_cnt',\n",
       " 'videos_cnt',\n",
       " 'pages_cnt',\n",
       " 'lang_cnt',\n",
       " 'change_city_school_cnt',\n",
       " 'schools_cnt',\n",
       " 'photo_cnt',\n",
       " 'photo_like_cnt',\n",
       " 'photo_repost_cnt',\n",
       " 'photo_text_len_cnt',\n",
       " 'vk_photo_ava_change_cnt',\n",
       " 'vk_photo_text_url_len_cnt',\n",
       " 'vk_photo_wall_ph_post_cnt']"
      ]
     },
     "execution_count": 5,
     "metadata": {},
     "output_type": "execute_result"
    }
   ],
   "source": [
    "variables_cnt = [item for item in df.columns if item[-3:] == 'cnt']\n",
    "variables_cnt"
   ]
  },
  {
   "cell_type": "markdown",
   "metadata": {},
   "source": [
    "Разбиритесь как работает и устроен этот цикл, если вы ещё не разбираетесь. Почитать об этом можно [вот тут.](https://habr.com/ru/post/30232/) Чуть ниже вам предстоит написать свой такой. \n",
    "\n",
    "Вытащите из переменных счётчиков только те, которые отвечают за фото. Постройте для них гистограммы (для удобства используйте логарифмическое скалирование). Как думаете, в каких переменных есть выбросы? Какие из переменных неинформативны? Почему?\n",
    "\n",
    "__Ответ:__ Выбросы есть везде, где длинные хвосты. То есть это почти каждая переменная. Неинформативная `photo_ava_change_cnt`. Она принимает только одно значение. Какой вообще в ней смысл?!"
   ]
  },
  {
   "cell_type": "code",
   "execution_count": 6,
   "metadata": {},
   "outputs": [
    {
     "data": {
      "image/png": "[encoded data removed]",
      "text/plain": [
       "<Figure size 1080x576 with 9 Axes>"
      ]
     },
     "metadata": {
      "needs_background": "light"
     },
     "output_type": "display_data"
    }
   ],
   "source": [
    "photo_vars = [var_name for var_name in variables_cnt if 'photo' in var_name]\n",
    "df[photo_vars].hist(figsize = (15,8), log=True);"
   ]
  },
  {
   "cell_type": "markdown",
   "metadata": {},
   "source": [
    "Кто больше постит фотографий, девушки или парни? чьи фото собирают больше лайков? (общее количество лайков, медиана и среднее)"
   ]
  },
  {
   "cell_type": "code",
   "execution_count": 7,
   "metadata": {},
   "outputs": [
    {
     "name": "stderr",
     "output_type": "stream",
     "text": [
      "/usr/local/lib/python3.7/site-packages/numpy/lib/histograms.py:839: RuntimeWarning: invalid value encountered in greater_equal\n",
      "  keep = (tmp_a >= first_edge)\n",
      "/usr/local/lib/python3.7/site-packages/numpy/lib/histograms.py:840: RuntimeWarning: invalid value encountered in less_equal\n",
      "  keep &= (tmp_a <= last_edge)\n",
      "/usr/local/lib/python3.7/site-packages/matplotlib/figure.py:445: UserWarning: Matplotlib is currently using module://ipykernel.pylab.backend_inline, which is a non-GUI backend, so cannot show the figure.\n",
      "  % get_backend())\n"
     ]
    },
    {
     "data": {
      "image/png": "[encoded data removed]",
      "text/plain": [
       "<Figure size 864x1728 with 4 Axes>"
      ]
     },
     "metadata": {
      "needs_background": "light"
     },
     "output_type": "display_data"
    }
   ],
   "source": [
    "features = ['photo_cnt', 'photo_like_cnt', 'photo_like_median', 'photo_like_mean']\n",
    "fig, axes = plt.subplots(4, 1, figsize=(12,24))\n",
    "for i in range(4):\n",
    "    axes[i].hist([df[features[i]] [df.male_dummy == 1],df[features[i]] [df.male_dummy == 0]], log=True, bins=20)\n",
    "    axes[i].legend(['male', 'female'], )\n",
    "    axes[i].set_title(features[i])\n",
    "\n",
    "fig.show()"
   ]
  },
  {
   "cell_type": "markdown",
   "metadata": {},
   "source": [
    "\n",
    "Давайте добавим к нашим переменным (описывающим фотографии) количество друзей, количество подарков и пол"
   ]
  },
  {
   "cell_type": "code",
   "execution_count": 8,
   "metadata": {},
   "outputs": [],
   "source": [
    "vars_interesting = features\n",
    "vars_interesting.extend(['male_dummy', 'friends_cnt', 'gifts_cnt'])"
   ]
  },
  {
   "cell_type": "code",
   "execution_count": 9,
   "metadata": {},
   "outputs": [
    {
     "data": {
      "text/html": [
       "<div>\n",
       "<style scoped>\n",
       "    .dataframe tbody tr th:only-of-type {\n",
       "        vertical-align: middle;\n",
       "    }\n",
       "\n",
       "    .dataframe tbody tr th {\n",
       "        vertical-align: top;\n",
       "    }\n",
       "\n",
       "    .dataframe thead th {\n",
       "        text-align: right;\n",
       "    }\n",
       "</style>\n",
       "<table border=\"1\" class=\"dataframe\">\n",
       "  <thead>\n",
       "    <tr style=\"text-align: right;\">\n",
       "      <th></th>\n",
       "      <th>photo_cnt</th>\n",
       "      <th>photo_like_cnt</th>\n",
       "      <th>photo_like_median</th>\n",
       "      <th>photo_like_mean</th>\n",
       "      <th>male_dummy</th>\n",
       "      <th>friends_cnt</th>\n",
       "      <th>gifts_cnt</th>\n",
       "    </tr>\n",
       "  </thead>\n",
       "  <tbody>\n",
       "    <tr>\n",
       "      <th>0</th>\n",
       "      <td>4.0</td>\n",
       "      <td>309.0</td>\n",
       "      <td>72.0</td>\n",
       "      <td>77.250000</td>\n",
       "      <td>0</td>\n",
       "      <td>298.0</td>\n",
       "      <td>NaN</td>\n",
       "    </tr>\n",
       "    <tr>\n",
       "      <th>1</th>\n",
       "      <td>19.0</td>\n",
       "      <td>2894.0</td>\n",
       "      <td>152.0</td>\n",
       "      <td>152.315789</td>\n",
       "      <td>0</td>\n",
       "      <td>408.0</td>\n",
       "      <td>203.0</td>\n",
       "    </tr>\n",
       "    <tr>\n",
       "      <th>2</th>\n",
       "      <td>7.0</td>\n",
       "      <td>2406.0</td>\n",
       "      <td>328.0</td>\n",
       "      <td>343.714286</td>\n",
       "      <td>1</td>\n",
       "      <td>2969.0</td>\n",
       "      <td>NaN</td>\n",
       "    </tr>\n",
       "    <tr>\n",
       "      <th>3</th>\n",
       "      <td>50.0</td>\n",
       "      <td>1310.0</td>\n",
       "      <td>25.0</td>\n",
       "      <td>26.200000</td>\n",
       "      <td>0</td>\n",
       "      <td>214.0</td>\n",
       "      <td>24.0</td>\n",
       "    </tr>\n",
       "    <tr>\n",
       "      <th>4</th>\n",
       "      <td>35.0</td>\n",
       "      <td>1375.0</td>\n",
       "      <td>19.0</td>\n",
       "      <td>39.285714</td>\n",
       "      <td>1</td>\n",
       "      <td>336.0</td>\n",
       "      <td>227.0</td>\n",
       "    </tr>\n",
       "  </tbody>\n",
       "</table>\n",
       "</div>"
      ],
      "text/plain": [
       "   photo_cnt  photo_like_cnt  photo_like_median  photo_like_mean  male_dummy  \\\n",
       "0        4.0           309.0               72.0        77.250000           0   \n",
       "1       19.0          2894.0              152.0       152.315789           0   \n",
       "2        7.0          2406.0              328.0       343.714286           1   \n",
       "3       50.0          1310.0               25.0        26.200000           0   \n",
       "4       35.0          1375.0               19.0        39.285714           1   \n",
       "\n",
       "   friends_cnt  gifts_cnt  \n",
       "0        298.0        NaN  \n",
       "1        408.0      203.0  \n",
       "2       2969.0        NaN  \n",
       "3        214.0       24.0  \n",
       "4        336.0      227.0  "
      ]
     },
     "execution_count": 9,
     "metadata": {},
     "output_type": "execute_result"
    }
   ],
   "source": [
    "df[vars_interesting].head()"
   ]
  },
  {
   "cell_type": "markdown",
   "metadata": {},
   "source": [
    "__[1]__ Визуализируйте вытащенные признаки попарно. Постройте `pairplot` для всех пар. На диагонали расположите оценки плотностей для признаков. Для этого используйте опцию `diag_kind = 'kde'`. С помощью параметра `hue` разбейте все наблюдения на мужские и женские, чтобы они отражались на картинках разными цветами."
   ]
  },
  {
   "cell_type": "code",
   "execution_count": null,
   "metadata": {
    "scrolled": false
   },
   "outputs": [],
   "source": [
    "sns.pairplot(df[vars_interesting], diag_kind=\"kde\", hue='male_dummy', dropna=True);"
   ]
  },
  {
   "cell_type": "markdown",
   "metadata": {},
   "source": [
    "Давайте для удобства визуализации прологарифмуем наш датасет (предварительно заполнив пропуски нулями или выкинув их)"
   ]
  },
  {
   "cell_type": "code",
   "execution_count": 14,
   "metadata": {},
   "outputs": [],
   "source": [
    "import math"
   ]
  },
  {
   "cell_type": "code",
   "execution_count": null,
   "metadata": {},
   "outputs": [],
   "source": [
    "df_na_zero = df[vars_interesting].fillna(0)\n",
    "for column in df_na_zero.columns:\n",
    "    if column == 'male_dummy':\n",
    "        continue\n",
    "    df_na_zero[column] = df_na_zero[column].map(lambda x: math.log(1 + x))\n",
    "sns.pairplot(df_na_zero, diag_kind=\"kde\", hue='male_dummy', dropna=True);"
   ]
  },
  {
   "cell_type": "code",
   "execution_count": null,
   "metadata": {},
   "outputs": [],
   "source": [
    "df_na_drop = df[vars_interesting].dropna()\n",
    "for column in df_na_zero.columns:\n",
    "    if column == 'male_dummy':\n",
    "        continue\n",
    "    df_na_drop[column] = df_na_drop[column].map(lambda x: math.log(1 + x))\n",
    "sns.pairplot(df_na_drop, diag_kind=\"kde\", hue='male_dummy', dropna=True);"
   ]
  },
  {
   "cell_type": "markdown",
   "metadata": {},
   "source": [
    "__[2]__ Дайте ответы на соедущие вопросы. Свои мысли пишите прямо здесь! \n",
    "\n",
    "* Между какими признаками скорее всего есть линейная зависимость? Почему вы так решили? \n",
    "\n",
    "__Ответ:__  очевидно, медиана и среднее почти 1:1\n",
    "\n",
    "* Eсть ли тут нелинейные зависимости?\n",
    "\n",
    "__Ответ:__  на логарифмированных графиках почти линейные зависимости между количеством фото и лайков на них, количеством друзей и подарков, значит исходные близки к $y = x^a$\n",
    "\n",
    "* Есть ли объекты-выбросы, которые наблюдаются далеко от сгустков из точек. \n",
    "\n",
    "__Ответ:__ Да есть. __Подойдут любые попытки рассказать о том, что в некоторых облаках точки далеко от основного сгустка.__ \n",
    "\n",
    "* Какие ещё интересные особенности вы видите на картинке?\n",
    "\n"
   ]
  },
  {
   "cell_type": "markdown",
   "metadata": {},
   "source": [
    "__[1]__ Отлично! Половина домашки осталась позади. Давайте теперь для тех же самых признаков построим матрицу корреляций и провизуализируем её с помощью `heatmap`."
   ]
  },
  {
   "cell_type": "code",
   "execution_count": 16,
   "metadata": {},
   "outputs": [
    {
     "data": {
      "image/png": "[encoded data removed]",
      "text/plain": [
       "<Figure size 576x576 with 2 Axes>"
      ]
     },
     "metadata": {
      "needs_background": "light"
     },
     "output_type": "display_data"
    }
   ],
   "source": [
    "plt.subplots(figsize=(8, 8))\n",
    "sns.heatmap(df[vars_interesting].corr( ), square=True,\n",
    "              annot=True, fmt=\".1f\", linewidths=0.1, cmap=\"RdBu\");"
   ]
  },
  {
   "cell_type": "code",
   "execution_count": 17,
   "metadata": {},
   "outputs": [
    {
     "data": {
      "image/png": "[encoded data removed]",
      "text/plain": [
       "<Figure size 576x576 with 2 Axes>"
      ]
     },
     "metadata": {
      "needs_background": "light"
     },
     "output_type": "display_data"
    }
   ],
   "source": [
    "plt.subplots(figsize=(8, 8))\n",
    "sns.heatmap(df_na_zero.corr( ), square=True,\n",
    "              annot=True, fmt=\".1f\", linewidths=0.1, cmap=\"RdBu\");"
   ]
  },
  {
   "cell_type": "code",
   "execution_count": null,
   "metadata": {},
   "outputs": [],
   "source": [
    "plt.subplots(figsize=(8, 8))\n",
    "sns.heatmap(df_na_drop.corr( ), square=True,\n",
    "              annot=True, fmt=\".1f\", linewidths=0.1, cmap=\"RdBu\");"
   ]
  },
  {
   "cell_type": "markdown",
   "metadata": {},
   "source": [
    "__[2]__ Между какими переменными корреляция самая высокая? Почему? Она отрицательная или положительная. Прокомментируйте все клетки, где она оказалась $\\ge 0.3$ либо $\\le -0.2$. \n",
    "\n",
    "__Ответ:__ "
   ]
  },
  {
   "cell_type": "markdown",
   "metadata": {},
   "source": [
    "__[1]__ Дамми-переменная это переменная, которая принмает два значения. Либо $1$, если человек обладает закодированным в ней свойством, либо $0$, если не обладает. В нашей таблице все дамми-переменные оканчиваются на суффикc `dummy`.  \n",
    "\n",
    "Возьмите переменную `instagram_dummy`. Она принимает значение $1$, если у пользователя на страничке есть ссылка на инстаграм. Возьмите переменную `male_dummy`. Она примает значение $1$, если пользователь парень. Постройте картинку, на которой будет видно как между собой соотносятся владельцы инстаграмма по полу. "
   ]
  },
  {
   "cell_type": "code",
   "execution_count": 20,
   "metadata": {},
   "outputs": [
    {
     "data": {
      "text/html": [
       "<div>\n",
       "<style scoped>\n",
       "    .dataframe tbody tr th:only-of-type {\n",
       "        vertical-align: middle;\n",
       "    }\n",
       "\n",
       "    .dataframe tbody tr th {\n",
       "        vertical-align: top;\n",
       "    }\n",
       "\n",
       "    .dataframe thead th {\n",
       "        text-align: right;\n",
       "    }\n",
       "</style>\n",
       "<table border=\"1\" class=\"dataframe\">\n",
       "  <thead>\n",
       "    <tr style=\"text-align: right;\">\n",
       "      <th>male_dummy</th>\n",
       "      <th>0</th>\n",
       "      <th>1</th>\n",
       "    </tr>\n",
       "    <tr>\n",
       "      <th>instagram_dummy</th>\n",
       "      <th></th>\n",
       "      <th></th>\n",
       "    </tr>\n",
       "  </thead>\n",
       "  <tbody>\n",
       "    <tr>\n",
       "      <th>0</th>\n",
       "      <td>174</td>\n",
       "      <td>168</td>\n",
       "    </tr>\n",
       "    <tr>\n",
       "      <th>1</th>\n",
       "      <td>56</td>\n",
       "      <td>27</td>\n",
       "    </tr>\n",
       "  </tbody>\n",
       "</table>\n",
       "</div>"
      ],
      "text/plain": [
       "male_dummy         0    1\n",
       "instagram_dummy          \n",
       "0                174  168\n",
       "1                 56   27"
      ]
     },
     "execution_count": 20,
     "metadata": {},
     "output_type": "execute_result"
    }
   ],
   "source": [
    "dff = df.pivot_table(index='instagram_dummy', columns='male_dummy', values='first_name', aggfunc='count')\n",
    "dff"
   ]
  },
  {
   "cell_type": "code",
   "execution_count": 21,
   "metadata": {},
   "outputs": [
    {
     "data": {
      "text/plain": [
       "<matplotlib.axes._subplots.AxesSubplot at 0x13207b470>"
      ]
     },
     "execution_count": 21,
     "metadata": {},
     "output_type": "execute_result"
    },
    {
     "data": {
      "image/png": "[encoded data removed]",
      "text/plain": [
       "<Figure size 432x288 with 1 Axes>"
      ]
     },
     "metadata": {
      "needs_background": "light"
     },
     "output_type": "display_data"
    }
   ],
   "source": [
    "dff.plot(kind='bar', stacked=True)"
   ]
  },
  {
   "cell_type": "markdown",
   "metadata": {},
   "source": [
    "Правда ли, что девушки чаще указыают наличие инстаграмма на своей страничке?\n",
    "\n",
    "__Ответ:__  Да. Во втором столбике синяя фигня толще. "
   ]
  },
  {
   "cell_type": "markdown",
   "metadata": {},
   "source": [
    "__[1]__  Категориальная переменная обычно принимает значения из какого-то фиксированного множества. Например, переменная `political_cat` описывает к какой категории относятся политические взгляды юзера. Постройте для этой переменной столбиковую диаграмму. Разбиритесь по [документации](http://seaborn.pydata.org/generated/seaborn.countplot.html#seaborn.countplot) как сделать у столбиков горизонтальное расположение. Можно ли сделать исходя из картинки вывод, что в вышке одни либералы? Почему? "
   ]
  },
  {
   "cell_type": "code",
   "execution_count": 22,
   "metadata": {},
   "outputs": [
    {
     "data": {
      "image/png": "[encoded data removed]",
      "text/plain": [
       "<Figure size 360x360 with 1 Axes>"
      ]
     },
     "metadata": {
      "needs_background": "light"
     },
     "output_type": "display_data"
    }
   ],
   "source": [
    "sns.catplot(y = 'political_cat', data=df, kind='count');"
   ]
  },
  {
   "cell_type": "markdown",
   "metadata": {},
   "source": [
    "как политические взгляды распределены по полам?  \n",
    "__Ответ:__  Можно визуализировать, но выводы делать нельзя, мало данных"
   ]
  },
  {
   "cell_type": "code",
   "execution_count": 23,
   "metadata": {},
   "outputs": [
    {
     "data": {
      "text/html": [
       "<div>\n",
       "<style scoped>\n",
       "    .dataframe tbody tr th:only-of-type {\n",
       "        vertical-align: middle;\n",
       "    }\n",
       "\n",
       "    .dataframe tbody tr th {\n",
       "        vertical-align: top;\n",
       "    }\n",
       "\n",
       "    .dataframe thead th {\n",
       "        text-align: right;\n",
       "    }\n",
       "</style>\n",
       "<table border=\"1\" class=\"dataframe\">\n",
       "  <thead>\n",
       "    <tr style=\"text-align: right;\">\n",
       "      <th>male_dummy</th>\n",
       "      <th>0</th>\n",
       "      <th>1</th>\n",
       "    </tr>\n",
       "    <tr>\n",
       "      <th>political_cat</th>\n",
       "      <th></th>\n",
       "      <th></th>\n",
       "    </tr>\n",
       "  </thead>\n",
       "  <tbody>\n",
       "    <tr>\n",
       "      <th>индифферентные</th>\n",
       "      <td>1.0</td>\n",
       "      <td>1.0</td>\n",
       "    </tr>\n",
       "    <tr>\n",
       "      <th>коммунистические</th>\n",
       "      <td>1.0</td>\n",
       "      <td>NaN</td>\n",
       "    </tr>\n",
       "    <tr>\n",
       "      <th>либеральные</th>\n",
       "      <td>1.0</td>\n",
       "      <td>1.0</td>\n",
       "    </tr>\n",
       "    <tr>\n",
       "      <th>либертарианские</th>\n",
       "      <td>NaN</td>\n",
       "      <td>1.0</td>\n",
       "    </tr>\n",
       "    <tr>\n",
       "      <th>социалистические</th>\n",
       "      <td>NaN</td>\n",
       "      <td>1.0</td>\n",
       "    </tr>\n",
       "    <tr>\n",
       "      <th>умеренные</th>\n",
       "      <td>2.0</td>\n",
       "      <td>3.0</td>\n",
       "    </tr>\n",
       "  </tbody>\n",
       "</table>\n",
       "</div>"
      ],
      "text/plain": [
       "male_dummy          0    1\n",
       "political_cat             \n",
       "индифферентные    1.0  1.0\n",
       "коммунистические  1.0  NaN\n",
       "либеральные       1.0  1.0\n",
       "либертарианские   NaN  1.0\n",
       "социалистические  NaN  1.0\n",
       "умеренные         2.0  3.0"
      ]
     },
     "execution_count": 23,
     "metadata": {},
     "output_type": "execute_result"
    }
   ],
   "source": [
    "dff = df.pivot_table(index='political_cat', columns='male_dummy', values='first_name', aggfunc='count')\n",
    "dff"
   ]
  },
  {
   "cell_type": "code",
   "execution_count": 24,
   "metadata": {},
   "outputs": [
    {
     "data": {
      "text/plain": [
       "<matplotlib.axes._subplots.AxesSubplot at 0x136c336d8>"
      ]
     },
     "execution_count": 24,
     "metadata": {},
     "output_type": "execute_result"
    },
    {
     "data": {
      "image/png": "[encoded data removed]",
      "text/plain": [
       "<Figure size 432x288 with 1 Axes>"
      ]
     },
     "metadata": {
      "needs_background": "light"
     },
     "output_type": "display_data"
    }
   ],
   "source": [
    "dff.plot(kind='bar', stacked=True)"
   ]
  },
  {
   "cell_type": "markdown",
   "metadata": {},
   "source": [
    "__[n]  Удиви нас. Попробуй найти в данных какую-то классную особенность и визуализируйте её. Если у тебя это получится, мы поставим дополнительные баллы.__ Если вы найдёте полную фигню (сколько всего друзей у Маши или типа того), баллов не будет. Найденный факт реально должен выносить мозг и сносить крышу."
   ]
  },
  {
   "cell_type": "code",
   "execution_count": null,
   "metadata": {},
   "outputs": [],
   "source": [
    "# ваш код "
   ]
  },
  {
   "cell_type": "markdown",
   "metadata": {},
   "source": [
    "Настрадался? Выскажи всё, что думаешь обо всём этом [в анонимке по четвёртой домашке.](https://docs.google.com/forms/d/e/1FAIpQLSeumKE6K8fB7xZsXneN1KjkV9y_gmLl6wGG7MDiY84HWBUsNg/viewform) "
   ]
  },
  {
   "cell_type": "markdown",
   "metadata": {},
   "source": [
    " "
   ]
  }
 ],
 "metadata": {
  "kernelspec": {
   "display_name": "Python 3",
   "language": "python",
   "name": "python3"
  },
  "language_info": {
   "codemirror_mode": {
    "name": "ipython",
    "version": 3
   },
   "file_extension": ".py",
   "mimetype": "text/x-python",
   "name": "python",
   "nbconvert_exporter": "python",
   "pygments_lexer": "ipython3",
   "version": "3.7.2"
  }
 },
 "nbformat": 4,
 "nbformat_minor": 2
}
